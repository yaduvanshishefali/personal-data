{
 "cells": [
  {
   "cell_type": "code",
   "execution_count": 7,
   "metadata": {},
   "outputs": [],
   "source": [
    "from selenium import webdriver\n",
    "from PIL import Image\n",
    "\n",
    "driver = webdriver.Firefox(executable_path='/home/launchpad/Desktop/python/geckodriver');\n",
    "driver.get('https://www.google.co.in');\n",
    "\n",
    "element = driver.find_element_by_tag_name('body')\n",
    "\n",
    "location = element.location;\n",
    "size = element.size;\n",
    "\n",
    "driver.save_screenshot(\"/home/launchpad/Desktop/python/screenshot/screenshot.png\");\n",
    "\n",
    "x = location['x'];\n",
    "y = location['y'];\n",
    "width = location['x']+size['width'];\n",
    "height = location['y']+size['height'];\n",
    "\n",
    "im = Image.open('/home/launchpad/Desktop/python/screenshot/screenshot.png')\n",
    "im = im.crop((int(x), int(y), int(width), int(height)))\n",
    "im.save('/home/launchpad/Desktop/python/screenshot/screenshot.png')"
   ]
  },
  {
   "cell_type": "code",
   "execution_count": null,
   "metadata": {},
   "outputs": [],
   "source": []
  }
 ],
 "metadata": {
  "kernelspec": {
   "display_name": "Python 3",
   "language": "python",
   "name": "python3"
  },
  "language_info": {
   "codemirror_mode": {
    "name": "ipython",
    "version": 3
   },
   "file_extension": ".py",
   "mimetype": "text/x-python",
   "name": "python",
   "nbconvert_exporter": "python",
   "pygments_lexer": "ipython3",
   "version": "3.5.2"
  }
 },
 "nbformat": 4,
 "nbformat_minor": 2
}
