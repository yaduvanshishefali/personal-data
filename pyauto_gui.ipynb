{
 "cells": [
  {
   "cell_type": "code",
   "execution_count": null,
   "metadata": {},
   "outputs": [],
   "source": [
    "import pyautogui"
   ]
  },
  {
   "cell_type": "code",
   "execution_count": null,
   "metadata": {},
   "outputs": [],
   "source": [
    "screenWidth, screenHeight = pyautogui.size()\n",
    "currentMouseX, currentMouseY = pyautogui.position()\n",
    "pyautogui.moveTo(100, 150)\n",
    "pyautogui.click()\n",
    "pyautogui.moveRel(None, 10)  # move mouse 10 pixels down\n",
    "pyautogui.doubleClick()\n",
    "pyautogui.moveTo(500, 500, duration=2, tween=pyautogui.easeInOutQuad)  # use tweening/easing function to move mouse over 2 seconds.\n",
    "pyautogui.typewrite('Hello world!', interval=0.25)  # type with quarter-second pause in between each key\n",
    "pyautogui.press('esc')\n",
    "pyautogui.keyDown('shift')\n",
    "pyautogui.press(['left', 'left', 'left', 'left', 'left', 'left'])\n",
    "pyautogui.keyUp('shift')\n",
    "pyautogui.hotkey('ctrl', 'c')"
   ]
  },
  {
   "cell_type": "code",
   "execution_count": null,
   "metadata": {},
   "outputs": [],
   "source": [
    "for i in range(10):\n",
    "    pyautogui.moveTo(100, 100, duration=0.25)\n",
    "    pyautogui.moveTo(200, 100, duration=0.25)\n",
    "    pyautogui.moveTo(200, 200, duration=0.25)\n",
    "    pyautogui.moveTo(100, 200, duration=0.25)"
   ]
  },
  {
   "cell_type": "code",
   "execution_count": null,
   "metadata": {},
   "outputs": [],
   "source": [
    "for i in range(10):\n",
    "      pyautogui.moveRel(100, 0, duration=0.25)\n",
    "      pyautogui.moveRel(0, 100, duration=0.25)\n",
    "      pyautogui.moveRel(-100, 0, duration=0.25)\n",
    "      pyautogui.moveRel(0, -100, duration=0.25)"
   ]
  },
  {
   "cell_type": "code",
   "execution_count": 2,
   "metadata": {},
   "outputs": [],
   "source": [
    "import pyautogui,time"
   ]
  },
  {
   "cell_type": "code",
   "execution_count": 42,
   "metadata": {},
   "outputs": [
    {
     "name": "stdout",
     "output_type": "stream",
     "text": [
      "(45, 583)\n"
     ]
    }
   ],
   "source": [
    "screenWidth, screenHeight = pyautogui.size()\n",
    "j = (45, 583)\n",
    "print(j)\n",
    "#pyautogui.moveTo(35, 290)\n",
    "pyautogui.click(x=j[0],y=j[1])\n",
    "time.sleep(4)\n",
    "pyautogui.typewrite('https://www.gmail.com/')\n",
    "pyautogui.press('enter')\n",
    "time.sleep(5)\n",
    "pyautogui.click(x=545,y=408)\n",
    "pyautogui.typewrite('deepaliyaduv1912@gmail.com')\n",
    "pyautogui.press('enter')\n",
    "time.sleep(4)\n",
    "pyautogui.click(x=567,y=406)\n",
    "pyautogui.typewrite('Deep@li1')\n",
    "pyautogui.press('enter')\n",
    "time.sleep(10)\n",
    "pyautogui.click(x=1332,y=130)\n",
    "time.sleep(2)\n",
    "pyautogui.click(x=1254,y=319)"
   ]
  },
  {
   "cell_type": "code",
   "execution_count": 46,
   "metadata": {
    "scrolled": true
   },
   "outputs": [
    {
     "name": "stdout",
     "output_type": "stream",
     "text": [
      "(1296, 147)\n",
      "(1296, 147)\n",
      "(1296, 147)\n",
      "(1296, 147)\n",
      "(1296, 147)\n"
     ]
    }
   ],
   "source": [
    "for i in range(5):\n",
    "    time.sleep(4)\n",
    "    print(pyautogui.position())"
   ]
  },
  {
   "cell_type": "code",
   "execution_count": 3,
   "metadata": {},
   "outputs": [],
   "source": [
    "# open a tab in incognito window and perform login logout operation \n",
    "screenWidth, screenHeight = pyautogui.size()\n",
    "pyautogui.click(1348,74)\n",
    "pyautogui.click(1296,147)\n",
    "time.sleep(5)\n",
    "pyautogui.typewrite('https://www.gmail.com/')\n",
    "pyautogui.press('enter')\n",
    "time.sleep(5)\n",
    "pyautogui.click(x=545,y=408)\n",
    "pyautogui.typewrite('deepaliyaduv1912@gmail.com')\n",
    "pyautogui.press('enter')\n",
    "time.sleep(5)\n",
    "pyautogui.click(x=567,y=406)\n",
    "pyautogui.typewrite('Deep@li1')\n",
    "pyautogui.press('enter')\n",
    "time.sleep(10)\n",
    "pyautogui.click(x=1332,y=130)\n",
    "time.sleep(2)\n",
    "pyautogui.click(x=1254,y=319)"
   ]
  },
  {
   "cell_type": "code",
   "execution_count": 4,
   "metadata": {},
   "outputs": [],
   "source": [
    "def c(cord,t):\n",
    "    pyautogui.click(x=cord[0],y=cord[1])\n",
    "    time.sleep(t)"
   ]
  },
  {
   "cell_type": "code",
   "execution_count": 8,
   "metadata": {},
   "outputs": [],
   "source": [
    "z,y = pyautogui.position()"
   ]
  },
  {
   "cell_type": "code",
   "execution_count": 7,
   "metadata": {},
   "outputs": [],
   "source": [
    "c(t,2)\n",
    "c(t,2)\n"
   ]
  },
  {
   "cell_type": "code",
   "execution_count": 9,
   "metadata": {},
   "outputs": [
    {
     "data": {
      "text/plain": [
       "357"
      ]
     },
     "execution_count": 9,
     "metadata": {},
     "output_type": "execute_result"
    }
   ],
   "source": [
    "z"
   ]
  },
  {
   "cell_type": "code",
   "execution_count": 10,
   "metadata": {},
   "outputs": [
    {
     "data": {
      "text/plain": [
       "488"
      ]
     },
     "execution_count": 10,
     "metadata": {},
     "output_type": "execute_result"
    }
   ],
   "source": [
    "y"
   ]
  },
  {
   "cell_type": "code",
   "execution_count": null,
   "metadata": {},
   "outputs": [],
   "source": []
  }
 ],
 "metadata": {
  "kernelspec": {
   "display_name": "Python 3",
   "language": "python",
   "name": "python3"
  },
  "language_info": {
   "codemirror_mode": {
    "name": "ipython",
    "version": 3
   },
   "file_extension": ".py",
   "mimetype": "text/x-python",
   "name": "python",
   "nbconvert_exporter": "python",
   "pygments_lexer": "ipython3",
   "version": "3.5.2"
  }
 },
 "nbformat": 4,
 "nbformat_minor": 2
}
