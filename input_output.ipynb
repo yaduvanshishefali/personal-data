{
 "cells": [
  {
   "cell_type": "code",
   "execution_count": null,
   "metadata": {},
   "outputs": [],
   "source": [
    "open('t.txt','w')"
   ]
  },
  {
   "cell_type": "code",
   "execution_count": 1,
   "metadata": {},
   "outputs": [],
   "source": [
    "j=open('n.txt','w')"
   ]
  },
  {
   "cell_type": "code",
   "execution_count": 2,
   "metadata": {},
   "outputs": [
    {
     "data": {
      "text/plain": [
       "_io.TextIOWrapper"
      ]
     },
     "execution_count": 2,
     "metadata": {},
     "output_type": "execute_result"
    }
   ],
   "source": [
    "type(j)"
   ]
  },
  {
   "cell_type": "code",
   "execution_count": 3,
   "metadata": {},
   "outputs": [
    {
     "data": {
      "text/plain": [
       "5"
      ]
     },
     "execution_count": 3,
     "metadata": {},
     "output_type": "execute_result"
    }
   ],
   "source": [
    "j.write('hello')"
   ]
  },
  {
   "cell_type": "code",
   "execution_count": 5,
   "metadata": {},
   "outputs": [],
   "source": [
    "t=open('t.txt','r')"
   ]
  },
  {
   "cell_type": "code",
   "execution_count": 6,
   "metadata": {},
   "outputs": [
    {
     "data": {
      "text/plain": [
       "'hello good day\\n'"
      ]
     },
     "execution_count": 6,
     "metadata": {},
     "output_type": "execute_result"
    }
   ],
   "source": [
    "t.readline()"
   ]
  },
  {
   "cell_type": "code",
   "execution_count": null,
   "metadata": {},
   "outputs": [],
   "source": [
    "y=open('txt.t','a')"
   ]
  },
  {
   "cell_type": "code",
   "execution_count": null,
   "metadata": {},
   "outputs": [],
   "source": [
    "y.write('\\nkite')"
   ]
  },
  {
   "cell_type": "code",
   "execution_count": null,
   "metadata": {},
   "outputs": [],
   "source": [
    "t=open('t.txt','r')"
   ]
  },
  {
   "cell_type": "code",
   "execution_count": null,
   "metadata": {},
   "outputs": [],
   "source": [
    "t.read()"
   ]
  },
  {
   "cell_type": "code",
   "execution_count": null,
   "metadata": {},
   "outputs": [],
   "source": [
    "#download file form request \n",
    "\n",
    "import requests\n",
    "url = 'https://yt3.ggpht.com/a-/ACSszfH4rgI-WIVE6ZZqYZK-8oCZyEY_L8-FhvJarA=s900-mo-c-c0xffffffff-rj-k-no'\n",
    "file = 'g.jpeg'\n",
    "\n",
    "r= requests.get(url, stream=True)\n",
    "with open(file, 'wb') as f : #WB mode is stand for write byte\n",
    "    for chunk in r.iter_content(chunk_size=10274):\n",
    "        if chunk :\n",
    "            f.write(chunk)\n",
    "            #print(chunk) it is useed to print image in writebyte (wb type)"
   ]
  },
  {
   "cell_type": "code",
   "execution_count": null,
   "metadata": {},
   "outputs": [],
   "source": [
    "import requests\n",
    "\n",
    "def is_downloadable(url):\n",
    "    \"\"\"\n",
    "    Does the url contain a downloadable resource\n",
    "    \"\"\"\n",
    "    h = requests.head(url, allow_redirects=True)\n",
    "    header = h.headers\n",
    "    content_type = header.get('content-type')\n",
    "    if 'text' in content_type.lower():\n",
    "        return False\n",
    "    if 'html' in content_type.lower():\n",
    "        return False\n",
    "    return True\n",
    "\n",
    "print (is_downloadable('http://2017.downloadming2018.com/bollywood%20mp3/Veere%20Di%20Wedding%20(2018)/Veere%20Di%20Wedding%20(2018)%20(320%20Kbps)%20-%20DownloadMing.SE/04%20-%20Laaj%20Sharam%20-%20DownloadMing.SE.mp3'))\n",
    "# >> False\n",
    "print (is_downloadable('http://google.com/favicon.ico'))\n",
    "# >> True"
   ]
  },
  {
   "cell_type": "code",
   "execution_count": null,
   "metadata": {},
   "outputs": [],
   "source": [
    "#download audio from requests module\n",
    "import requests\n",
    "url = 'http://2017.downloadming2018.com/bollywood%20mp3/Veere%20Di%20Wedding%20(2018)/Veere%20Di%20Wedding%20(2018)%20(320%20Kbps)%20-%20DownloadMing.SE/04%20-%20Laaj%20Sharam%20-%20DownloadMing.SE.mp3'\n",
    "file = 'y.mp4'\n",
    "\n",
    "r= requests.get(url, stream=True)\n",
    "with open(file, 'wb') as f : #WB mode is stand for write in byte\n",
    "    for chunk in r.iter_content(chunk_size=10274):\n",
    "        if chunk :\n",
    "            f.write(chunk)"
   ]
  },
  {
   "cell_type": "code",
   "execution_count": 37,
   "metadata": {},
   "outputs": [],
   "source": [
    "h=open('new1.txt','w')"
   ]
  },
  {
   "cell_type": "code",
   "execution_count": 38,
   "metadata": {},
   "outputs": [
    {
     "data": {
      "text/plain": [
       "33"
      ]
     },
     "execution_count": 38,
     "metadata": {},
     "output_type": "execute_result"
    }
   ],
   "source": [
    "h.write('this is my new file\\new paraggraph')"
   ]
  },
  {
   "cell_type": "code",
   "execution_count": 39,
   "metadata": {},
   "outputs": [],
   "source": [
    "h.close()"
   ]
  },
  {
   "cell_type": "code",
   "execution_count": 41,
   "metadata": {},
   "outputs": [],
   "source": [
    "n=open('new1.txt','r')"
   ]
  },
  {
   "cell_type": "code",
   "execution_count": 34,
   "metadata": {},
   "outputs": [
    {
     "data": {
      "text/plain": [
       "16"
      ]
     },
     "execution_count": 34,
     "metadata": {},
     "output_type": "execute_result"
    }
   ],
   "source": [
    "n.write('askjdhk')"
   ]
  },
  {
   "cell_type": "code",
   "execution_count": 42,
   "metadata": {},
   "outputs": [
    {
     "data": {
      "text/plain": [
       "'this is my new file\\new paraggraph'"
      ]
     },
     "execution_count": 42,
     "metadata": {},
     "output_type": "execute_result"
    }
   ],
   "source": [
    "n.read()"
   ]
  },
  {
   "cell_type": "code",
   "execution_count": null,
   "metadata": {},
   "outputs": [],
   "source": [
    "#h.write('this is my new file\\new paraggraph')"
   ]
  },
  {
   "cell_type": "code",
   "execution_count": null,
   "metadata": {},
   "outputs": [],
   "source": [
    "#n=open('new1.txt','r')"
   ]
  },
  {
   "cell_type": "code",
   "execution_count": 43,
   "metadata": {},
   "outputs": [],
   "source": [
    "w=n.read()\n"
   ]
  },
  {
   "cell_type": "code",
   "execution_count": null,
   "metadata": {},
   "outputs": [],
   "source": [
    "#request module\n",
    "import requests"
   ]
  },
  {
   "cell_type": "code",
   "execution_count": null,
   "metadata": {},
   "outputs": [],
   "source": [
    "r=requests.get('https://github.com/timeline.json')\n",
    "r.status_code"
   ]
  },
  {
   "cell_type": "code",
   "execution_count": 12,
   "metadata": {},
   "outputs": [
    {
     "name": "stdout",
     "output_type": "stream",
     "text": [
      "/home/launchpad/Documents/javascript/Screenshot from 2018-02-27 18-53-17.png\t/home/launchpad/Documents/javascript/0.fhd\n",
      "\n",
      "/home/launchpad/Documents/javascript/o.js\t/home/launchpad/Documents/javascript/1.fhd\n",
      "\n",
      "/home/launchpad/Documents/javascript/d.js\t/home/launchpad/Documents/javascript/2.fhd\n",
      "\n",
      "/home/launchpad/Documents/javascript/Screenshot from 2018-03-18 19-21-46.png\t/home/launchpad/Documents/javascript/3.fhd\n",
      "\n",
      "/home/launchpad/Documents/javascript/Screenshot from 2018-03-18 19-22-22.png\t/home/launchpad/Documents/javascript/4.fhd\n",
      "\n",
      "/home/launchpad/Documents/javascript/Screenshot from 2018-03-18 19-22-07.png\t/home/launchpad/Documents/javascript/5.fhd\n",
      "\n"
     ]
    }
   ],
   "source": [
    "f = open('dir.txt', 'r+')\n",
    "for line in f.readlines():\n",
    "    print (line)\n",
    "f.close()"
   ]
  },
  {
   "cell_type": "code",
   "execution_count": null,
   "metadata": {},
   "outputs": [],
   "source": []
  }
 ],
 "metadata": {
  "kernelspec": {
   "display_name": "Python 3",
   "language": "python",
   "name": "python3"
  },
  "language_info": {
   "codemirror_mode": {
    "name": "ipython",
    "version": 3
   },
   "file_extension": ".py",
   "mimetype": "text/x-python",
   "name": "python",
   "nbconvert_exporter": "python",
   "pygments_lexer": "ipython3",
   "version": "3.5.2"
  }
 },
 "nbformat": 4,
 "nbformat_minor": 2
}
