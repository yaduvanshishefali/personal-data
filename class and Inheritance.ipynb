{
 "cells": [
  {
   "cell_type": "code",
   "execution_count": null,
   "metadata": {},
   "outputs": [],
   "source": [
    "class Employee:\n",
    "   'Common base class for all employees'\n",
    "   empCount = 0\n",
    "\n",
    "   def __init__(self, name, salary):\n",
    "      self.name = name\n",
    "      self.salary = salary\n",
    "      Employee.empCount += 1\n",
    "   \n",
    "   def displayCount(self):\n",
    "     print (\"Total Employee %d\" % Employee.empCount)\n",
    "\n",
    "   def displayEmployee(self):\n",
    "      print (\"Name : \", self.name,  \", Salary: \", self.salary)\n",
    "\n",
    "print (\"Employee.__dict__:\", Employee.__dict__)\n",
    "#print \"Employee.__name__:\", Employee.__name__\n",
    "#print \"Employee.__module__:\", Employee.__module__\n",
    "#print \"Employee.__bases__:\", Employee.__bases__\n",
    "#print \"Employee.__dict__:\", Employee.__dict__"
   ]
  },
  {
   "cell_type": "code",
   "execution_count": 1,
   "metadata": {},
   "outputs": [
    {
     "name": "stdout",
     "output_type": "stream",
     "text": [
      "10919488\n",
      "10919488\n"
     ]
    }
   ],
   "source": [
    "a=3\n",
    "b=3\n",
    "print (id(a))\n",
    "print (id(b))"
   ]
  },
  {
   "cell_type": "code",
   "execution_count": 2,
   "metadata": {},
   "outputs": [
    {
     "name": "stdout",
     "output_type": "stream",
     "text": [
      "10919488\n"
     ]
    },
    {
     "ename": "NameError",
     "evalue": "name 'b' is not defined",
     "output_type": "error",
     "traceback": [
      "\u001b[0;31m---------------------------------------------------------------------------\u001b[0m",
      "\u001b[0;31mNameError\u001b[0m                                 Traceback (most recent call last)",
      "\u001b[0;32m<ipython-input-2-106ef666aab5>\u001b[0m in \u001b[0;36m<module>\u001b[0;34m()\u001b[0m\n\u001b[1;32m      2\u001b[0m \u001b[0mprint\u001b[0m \u001b[0;34m(\u001b[0m\u001b[0mid\u001b[0m\u001b[0;34m(\u001b[0m\u001b[0mb\u001b[0m\u001b[0;34m)\u001b[0m\u001b[0;34m)\u001b[0m\u001b[0;34m\u001b[0m\u001b[0m\n\u001b[1;32m      3\u001b[0m \u001b[0;32mdel\u001b[0m \u001b[0mb\u001b[0m\u001b[0;34m\u001b[0m\u001b[0m\n\u001b[0;32m----> 4\u001b[0;31m \u001b[0mprint\u001b[0m \u001b[0;34m(\u001b[0m\u001b[0mid\u001b[0m\u001b[0;34m(\u001b[0m\u001b[0mb\u001b[0m\u001b[0;34m)\u001b[0m\u001b[0;34m)\u001b[0m\u001b[0;34m\u001b[0m\u001b[0m\n\u001b[0m",
      "\u001b[0;31mNameError\u001b[0m: name 'b' is not defined"
     ]
    }
   ],
   "source": [
    "del a\n",
    "print (id(b))\n",
    "del b\n",
    "print (id(b))\n"
   ]
  },
  {
   "cell_type": "code",
   "execution_count": 3,
   "metadata": {},
   "outputs": [
    {
     "name": "stdout",
     "output_type": "stream",
     "text": [
      "10919488\n"
     ]
    }
   ],
   "source": [
    "a=3\n",
    "print(id(a))"
   ]
  },
  {
   "cell_type": "code",
   "execution_count": 11,
   "metadata": {},
   "outputs": [
    {
     "name": "stdout",
     "output_type": "stream",
     "text": [
      "hello\n",
      "140167873845344\n",
      "140167873845344\n",
      "point destroyed\n"
     ]
    }
   ],
   "source": [
    "#Automatic garbage collection\n",
    "class point:\n",
    "    def __init__(self):\n",
    "        print('hello')\n",
    "    \n",
    "    def __del__(self):\n",
    "        \n",
    "        class_name = self.__class__.__name__\n",
    "        print(class_name, \"destroyed\") \n",
    "\n",
    "pt1=point()\n",
    "print(id(pt1))\n",
    "pt2=pt1\n",
    "print(id(pt2))\n",
    "del pt1\n",
    "del pt2"
   ]
  },
  {
   "cell_type": "code",
   "execution_count": 17,
   "metadata": {},
   "outputs": [
    {
     "name": "stdout",
     "output_type": "stream",
     "text": [
      "Vector (7, 8)\n"
     ]
    }
   ],
   "source": [
    "#inheritance\n",
    "\n",
    "#operator overloading\n",
    "class Vector:\n",
    "   def __init__(self, a, b):\n",
    "      self.a = a\n",
    "      self.b = b\n",
    "\n",
    "   def __str__(self):\n",
    "      return 'Vector (%d, %d)' % (self.a, self.b)\n",
    "   \n",
    "   def __add__(self,other):\n",
    "      return Vector(self.a + other.a, self.b + other.b)\n",
    "\n",
    "v1 = Vector(2,10)\n",
    "v2 = Vector(5,-2)\n",
    "print (v2 + v1)"
   ]
  },
  {
   "cell_type": "code",
   "execution_count": 15,
   "metadata": {},
   "outputs": [
    {
     "data": {
      "text/plain": [
       "11"
      ]
     },
     "execution_count": 15,
     "metadata": {},
     "output_type": "execute_result"
    }
   ],
   "source": [
    "3+8"
   ]
  },
  {
   "cell_type": "code",
   "execution_count": 20,
   "metadata": {},
   "outputs": [
    {
     "name": "stdout",
     "output_type": "stream",
     "text": [
      "1\n",
      "2\n"
     ]
    },
    {
     "ename": "AttributeError",
     "evalue": "'JustCounter' object has no attribute '__secretCount'",
     "output_type": "error",
     "traceback": [
      "\u001b[0;31m---------------------------------------------------------------------------\u001b[0m",
      "\u001b[0;31mAttributeError\u001b[0m                            Traceback (most recent call last)",
      "\u001b[0;32m<ipython-input-20-41dfb6f1fe03>\u001b[0m in \u001b[0;36m<module>\u001b[0;34m()\u001b[0m\n\u001b[1;32m     11\u001b[0m \u001b[0mcounter\u001b[0m\u001b[0;34m.\u001b[0m\u001b[0mcount\u001b[0m\u001b[0;34m(\u001b[0m\u001b[0;34m)\u001b[0m\u001b[0;34m\u001b[0m\u001b[0m\n\u001b[1;32m     12\u001b[0m \u001b[0mcounter\u001b[0m\u001b[0;34m.\u001b[0m\u001b[0mcount\u001b[0m\u001b[0;34m(\u001b[0m\u001b[0;34m)\u001b[0m\u001b[0;34m\u001b[0m\u001b[0m\n\u001b[0;32m---> 13\u001b[0;31m \u001b[0mprint\u001b[0m \u001b[0;34m(\u001b[0m\u001b[0mcounter\u001b[0m\u001b[0;34m.\u001b[0m\u001b[0m__secretCount\u001b[0m\u001b[0;34m)\u001b[0m\u001b[0;34m\u001b[0m\u001b[0m\n\u001b[0m",
      "\u001b[0;31mAttributeError\u001b[0m: 'JustCounter' object has no attribute '__secretCount'"
     ]
    }
   ],
   "source": [
    "#data hiding\n",
    "\n",
    "class JustCounter:\n",
    "   __secretCount = 0\n",
    "  \n",
    "   def count(self):\n",
    "      self.__secretCount += 1\n",
    "      print (self.__secretCount)\n",
    "\n",
    "counter = JustCounter()\n",
    "counter.count()\n",
    "counter.count()\n",
    "print (counter.__secretCount)"
   ]
  },
  {
   "cell_type": "code",
   "execution_count": 1,
   "metadata": {},
   "outputs": [
    {
     "name": "stdout",
     "output_type": "stream",
     "text": [
      "['/home/launchpad/.local/lib/python3.5/site-packages/ipykernel_launcher.py', '-f', '/run/user/1000/jupyter/kernel-40473639-fafe-40ed-a6cc-24a76f770971.json']\n"
     ]
    }
   ],
   "source": [
    "import sys\n",
    "print (sys.argv)\n"
   ]
  },
  {
   "cell_type": "code",
   "execution_count": 1,
   "metadata": {},
   "outputs": [
    {
     "ename": "NameError",
     "evalue": "name 'sys' is not defined",
     "output_type": "error",
     "traceback": [
      "\u001b[0;31m---------------------------------------------------------------------------\u001b[0m",
      "\u001b[0;31mNameError\u001b[0m                                 Traceback (most recent call last)",
      "\u001b[0;32m<ipython-input-1-29143e111f23>\u001b[0m in \u001b[0;36m<module>\u001b[0;34m()\u001b[0m\n\u001b[0;32m----> 1\u001b[0;31m \u001b[0;32mfor\u001b[0m \u001b[0mi\u001b[0m \u001b[0;32min\u001b[0m \u001b[0mrange\u001b[0m\u001b[0;34m(\u001b[0m\u001b[0mint\u001b[0m\u001b[0;34m(\u001b[0m\u001b[0msys\u001b[0m\u001b[0;34m.\u001b[0m\u001b[0margv\u001b[0m\u001b[0;34m[\u001b[0m\u001b[0;36m1\u001b[0m\u001b[0;34m]\u001b[0m\u001b[0;34m)\u001b[0m\u001b[0;34m)\u001b[0m\u001b[0;34m:\u001b[0m\u001b[0;34m\u001b[0m\u001b[0m\n\u001b[0m\u001b[1;32m      2\u001b[0m     \u001b[0mprint\u001b[0m\u001b[0;34m(\u001b[0m\u001b[0mi\u001b[0m\u001b[0;34m)\u001b[0m\u001b[0;34m\u001b[0m\u001b[0m\n",
      "\u001b[0;31mNameError\u001b[0m: name 'sys' is not defined"
     ]
    }
   ],
   "source": [
    "for i in range(int(sys.argv[1])):\n",
    "    print(i)"
   ]
  },
  {
   "cell_type": "code",
   "execution_count": 9,
   "metadata": {},
   "outputs": [
    {
     "name": "stdout",
     "output_type": "stream",
     "text": [
      "Vector (3, 3)\n"
     ]
    }
   ],
   "source": [
    "# operator overloading\n",
    "class vector :\n",
    "    def __init__(self,a,b):\n",
    "        self.a=a\n",
    "        self.b=b\n",
    "    def __str__(self):\n",
    "      return 'Vector (%d, %d)' % (self.a, self.b)\n",
    "    def __sub__(self,other):\n",
    "        return vector(self.a - other.a, self.b - other.b)\n",
    "v1=vector(12,3)\n",
    "v2=vector(9,0)\n",
    "print (v1-v2)\n",
    "        "
   ]
  },
  {
   "cell_type": "code",
   "execution_count": 13,
   "metadata": {},
   "outputs": [
    {
     "ename": "TypeError",
     "evalue": "add_std() takes 1 positional argument but 3 were given",
     "output_type": "error",
     "traceback": [
      "\u001b[0;31m---------------------------------------------------------------------------\u001b[0m",
      "\u001b[0;31mTypeError\u001b[0m                                 Traceback (most recent call last)",
      "\u001b[0;32m<ipython-input-13-ca4228162d6f>\u001b[0m in \u001b[0;36m<module>\u001b[0;34m()\u001b[0m\n\u001b[1;32m     16\u001b[0m         \u001b[0mprint\u001b[0m\u001b[0;34m(\u001b[0m\u001b[0;34m'Date of birth:= '\u001b[0m\u001b[0;34m,\u001b[0m\u001b[0mself\u001b[0m\u001b[0;34m.\u001b[0m\u001b[0mdob\u001b[0m\u001b[0;34m)\u001b[0m\u001b[0;34m\u001b[0m\u001b[0m\n\u001b[1;32m     17\u001b[0m \u001b[0mj\u001b[0m\u001b[0;34m=\u001b[0m \u001b[0mjunior_students\u001b[0m\u001b[0;34m(\u001b[0m\u001b[0;34m'Karan'\u001b[0m\u001b[0;34m,\u001b[0m\u001b[0;34m'Sharma'\u001b[0m\u001b[0;34m)\u001b[0m\u001b[0;34m\u001b[0m\u001b[0m\n\u001b[0;32m---> 18\u001b[0;31m \u001b[0mj\u001b[0m\u001b[0;34m.\u001b[0m\u001b[0madd_std\u001b[0m\u001b[0;34m(\u001b[0m\u001b[0;34m'Ravi'\u001b[0m\u001b[0;34m,\u001b[0m\u001b[0;34m'Sharma1'\u001b[0m\u001b[0;34m)\u001b[0m\u001b[0;34m\u001b[0m\u001b[0m\n\u001b[0m\u001b[1;32m     19\u001b[0m \u001b[0;31m#j.jun_std('20/07/2000')\u001b[0m\u001b[0;34m\u001b[0m\u001b[0;34m\u001b[0m\u001b[0m\n",
      "\u001b[0;31mTypeError\u001b[0m: add_std() takes 1 positional argument but 3 were given"
     ]
    }
   ],
   "source": [
    "#Inheritance \n",
    "class senior_students:\n",
    "    \n",
    "    def __init__(self,fname,lname):\n",
    "        self.fname=fname\n",
    "        self.lname=lname\n",
    "        #senior_students+=1\n",
    "        \n",
    "    def add_std(self):\n",
    "        print('Name of student:=',self.fname +\" \"+ self.lname)\n",
    "        \n",
    "    #def remove_std(self):\n",
    "        \n",
    "class junior_students(senior_students):\n",
    "    def jun_std(self,dob):\n",
    "        print('Date of birth:= ',self.dob)\n",
    "j= junior_students('Karan','Sharma')\n",
    "j.add_std('Ravi','Sharma1')\n",
    "#j.jun_std('20/07/2000')"
   ]
  },
  {
   "cell_type": "code",
   "execution_count": 25,
   "metadata": {},
   "outputs": [
    {
     "name": "stdout",
     "output_type": "stream",
     "text": [
      "Marge Simpson\n",
      "Homer Simpson, 1007\n"
     ]
    }
   ],
   "source": [
    "class Person:\n",
    "\n",
    "    def __init__(self, first, last):\n",
    "        self.firstname = first\n",
    "        self.lastname = last\n",
    "\n",
    "    def Name(self):\n",
    "        return self.firstname + \" \" + self.lastname\n",
    "\n",
    "class Employee(Person):\n",
    "\n",
    "    def __init__(self, first, last, staffnum):\n",
    "        Person.__init__(self,first, last)\n",
    "        self.staffnumber = staffnum\n",
    "\n",
    "    def GetEmployee(self):\n",
    "        return self.Name() + \", \" +  self.staffnumber\n",
    "\n",
    "x = Person(\"Marge\", \"Simpson\")\n",
    "y = Employee(\"Homer\", \"Simpson\", \"1007\")\n",
    "\n",
    "print(x.Name())\n",
    "print(y.GetEmployee())"
   ]
  },
  {
   "cell_type": "code",
   "execution_count": null,
   "metadata": {},
   "outputs": [],
   "source": []
  }
 ],
 "metadata": {
  "kernelspec": {
   "display_name": "Python 3",
   "language": "python",
   "name": "python3"
  },
  "language_info": {
   "codemirror_mode": {
    "name": "ipython",
    "version": 3
   },
   "file_extension": ".py",
   "mimetype": "text/x-python",
   "name": "python",
   "nbconvert_exporter": "python",
   "pygments_lexer": "ipython3",
   "version": "3.5.2"
  }
 },
 "nbformat": 4,
 "nbformat_minor": 2
}
