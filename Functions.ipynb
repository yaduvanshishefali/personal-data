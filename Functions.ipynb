{
 "cells": [
  {
   "cell_type": "code",
   "execution_count": null,
   "metadata": {},
   "outputs": [],
   "source": [
    "#functions\n",
    "def a():\n",
    "    print('a called')\n",
    "a()"
   ]
  },
  {
   "cell_type": "code",
   "execution_count": null,
   "metadata": {},
   "outputs": [],
   "source": [
    "def s():\n",
    "    a=2\n",
    "    b=2\n",
    "    print(sum((a,b)))\n",
    "n=s()\n",
    "type(n)"
   ]
  },
  {
   "cell_type": "code",
   "execution_count": null,
   "metadata": {},
   "outputs": [],
   "source": [
    "#return\n",
    "def s():\n",
    "    a=2\n",
    "    b=5\n",
    "    return(a+b)\n",
    "    print(a+b)\n",
    "n=s()\n",
    "type(n)"
   ]
  },
  {
   "cell_type": "code",
   "execution_count": null,
   "metadata": {},
   "outputs": [],
   "source": [
    "#function with parameters\n",
    "def s(x):\n",
    "    print(x*2)\n",
    "s(3)"
   ]
  },
  {
   "cell_type": "code",
   "execution_count": null,
   "metadata": {},
   "outputs": [],
   "source": [
    "def s(a,b):\n",
    "    return(a+b)\n",
    "s(3,5)\n"
   ]
  },
  {
   "cell_type": "code",
   "execution_count": null,
   "metadata": {},
   "outputs": [],
   "source": [
    "str1=10\n",
    "def double_it(x=str1):\n",
    "    return x * 2\n",
    "double_it()"
   ]
  },
  {
   "cell_type": "code",
   "execution_count": null,
   "metadata": {},
   "outputs": [],
   "source": [
    "# function with dictionary\n",
    "def add_dic(args={'a':1,'b':2}):\n",
    "                for i in args.keys():\n",
    "                    args[i]+=1\n",
    "                print(args)\n",
    "                \n",
    "add_dic\n",
    "\n",
    "            "
   ]
  },
  {
   "cell_type": "code",
   "execution_count": null,
   "metadata": {},
   "outputs": [],
   "source": [
    "add_dic()"
   ]
  },
  {
   "cell_type": "code",
   "execution_count": null,
   "metadata": {},
   "outputs": [],
   "source": [
    "#postional args\n",
    "def s(x,y):\n",
    "    return(x+y)\n",
    "a=s(2,5)\n",
    "print(a)"
   ]
  },
  {
   "cell_type": "code",
   "execution_count": null,
   "metadata": {},
   "outputs": [],
   "source": [
    "def s(x,y):\n",
    "    return(x+y)\n",
    "s()"
   ]
  },
  {
   "cell_type": "code",
   "execution_count": null,
   "metadata": {},
   "outputs": [],
   "source": [
    "def diff(a,b,c):\n",
    "    return(a-b-c)\n",
    "a=diff(5,6,8)\n",
    "print(a)"
   ]
  },
  {
   "cell_type": "code",
   "execution_count": null,
   "metadata": {},
   "outputs": [],
   "source": [
    "#keyword argsd\n",
    "def m(x=2,y=2):\n",
    "    print(x*y)\n",
    "m(4,8)"
   ]
  },
  {
   "cell_type": "code",
   "execution_count": null,
   "metadata": {},
   "outputs": [],
   "source": [
    "def m(x=2,y=2):\n",
    "    print(x*y)\n",
    "m(y=12)"
   ]
  },
  {
   "cell_type": "code",
   "execution_count": null,
   "metadata": {},
   "outputs": [],
   "source": [
    "def m(x,y=2):\n",
    "    print(x*y)\n",
    "m(2)"
   ]
  },
  {
   "cell_type": "code",
   "execution_count": null,
   "metadata": {},
   "outputs": [],
   "source": [
    "#vvariable numbers of positional args\n",
    "def s(*args):\n",
    "    print(type(args),args)\n",
    "s(1,2,'r','hrll',2+4)"
   ]
  },
  {
   "cell_type": "code",
   "execution_count": null,
   "metadata": {},
   "outputs": [],
   "source": [
    "#variable numbers of keywords args\n",
    "def s1(*args,**kwargs):\n",
    "    print(type(args),args,type(kwargs),kwargs)\n",
    "s1(4,5.0,'t','street',2+3,t=2,y=0)"
   ]
  },
  {
   "cell_type": "code",
   "execution_count": null,
   "metadata": {},
   "outputs": [],
   "source": [
    "#globel vairable\n",
    "a=2 #global variables\n",
    "b=3\n",
    "def change():\n",
    "    global a\n",
    "    a=45#local varibales\n",
    "    b=34\n",
    "    print(a,b)\n",
    "change()\n",
    "print(a,b)"
   ]
  },
  {
   "cell_type": "code",
   "execution_count": null,
   "metadata": {},
   "outputs": [],
   "source": [
    "def s(x,y):\n",
    "    return(x+y)\n",
    "s(2,3)"
   ]
  },
  {
   "cell_type": "code",
   "execution_count": null,
   "metadata": {},
   "outputs": [],
   "source": [
    "help(s)#doc_string"
   ]
  },
  {
   "cell_type": "code",
   "execution_count": null,
   "metadata": {},
   "outputs": [],
   "source": [
    "a= 32\n",
    "def ch():\n",
    "    a=44\n",
    "    print(a)\n",
    "ch()\n",
    "print(a)"
   ]
  },
  {
   "cell_type": "code",
   "execution_count": null,
   "metadata": {},
   "outputs": [],
   "source": [
    "a= 32\n",
    "def ch():\n",
    "    global a\n",
    "    a=44\n",
    "    print(a)\n",
    "ch()\n",
    "print(a)"
   ]
  },
  {
   "cell_type": "code",
   "execution_count": null,
   "metadata": {},
   "outputs": [],
   "source": [
    "#class\n",
    "help(2)"
   ]
  },
  {
   "cell_type": "code",
   "execution_count": 2,
   "metadata": {},
   "outputs": [],
   "source": [
    "import random\n",
    "\n",
    "class Employee:\n",
    "   'Common base class for all employees'\n",
    "   empCount = 0\n",
    "\n",
    "   def __init__(self, name, salary):\n",
    "      self.name = name\n",
    "      self.salary = salary\n",
    "      Employee.empCount += 1\n",
    "   \n",
    "   def displayCount(self):\n",
    "     print(\"Total Employee %d\" % Employee.empCount) \n",
    "\n",
    "   def displayEmployee(self):\n",
    "      print (\"Name : \", self.name,  \", Salary: \", self.salary)"
   ]
  },
  {
   "cell_type": "code",
   "execution_count": null,
   "metadata": {},
   "outputs": [],
   "source": [
    "a = Employee('rahul',2000)"
   ]
  },
  {
   "cell_type": "code",
   "execution_count": null,
   "metadata": {},
   "outputs": [],
   "source": [
    "a.displayEmployee()\n",
    "Employee.empCount"
   ]
  },
  {
   "cell_type": "code",
   "execution_count": null,
   "metadata": {},
   "outputs": [],
   "source": [
    "b = Employee('ronak',500)"
   ]
  },
  {
   "cell_type": "code",
   "execution_count": null,
   "metadata": {},
   "outputs": [],
   "source": [
    "b.name\n"
   ]
  },
  {
   "cell_type": "code",
   "execution_count": null,
   "metadata": {},
   "outputs": [],
   "source": [
    "b.displayEmployee()"
   ]
  },
  {
   "cell_type": "code",
   "execution_count": null,
   "metadata": {},
   "outputs": [],
   "source": [
    "import os\n",
    "\n",
    "os.getcwd()"
   ]
  },
  {
   "cell_type": "code",
   "execution_count": null,
   "metadata": {},
   "outputs": [],
   "source": [
    "print(type(b))"
   ]
  },
  {
   "cell_type": "code",
   "execution_count": null,
   "metadata": {},
   "outputs": [],
   "source": [
    "__name__"
   ]
  },
  {
   "cell_type": "code",
   "execution_count": null,
   "metadata": {},
   "outputs": [],
   "source": [
    "a.salary = 400"
   ]
  },
  {
   "cell_type": "code",
   "execution_count": null,
   "metadata": {},
   "outputs": [],
   "source": [
    "a.age =  44 # insert attribute"
   ]
  },
  {
   "cell_type": "code",
   "execution_count": null,
   "metadata": {},
   "outputs": [],
   "source": [
    "a.age"
   ]
  },
  {
   "cell_type": "code",
   "execution_count": null,
   "metadata": {},
   "outputs": [],
   "source": [
    "del a.age #delete attribute by del keyword"
   ]
  },
  {
   "cell_type": "code",
   "execution_count": null,
   "metadata": {},
   "outputs": [],
   "source": [
    "getattr(b,'salary')"
   ]
  },
  {
   "cell_type": "code",
   "execution_count": null,
   "metadata": {},
   "outputs": [],
   "source": []
  },
  {
   "cell_type": "code",
   "execution_count": null,
   "metadata": {},
   "outputs": [],
   "source": []
  },
  {
   "cell_type": "code",
   "execution_count": null,
   "metadata": {},
   "outputs": [],
   "source": [
    "class Student:\n",
    "    \n",
    "    def __init__(self,std_name,std_mark):\n",
    "        self.name=std_name\n",
    "        self.marks=std_mark\n",
    "        \n",
    "\n",
    "    def display_student(self):\n",
    "        #using one line if else function\n",
    "        print (\"Name : \", self.name,  \", Marks: \", self.marks, \", Percentage :\", (self.marks/500)*100, \", Result : \",'pass' if ((self.marks/500)*100)>40 else 'fail')\n",
    "    \n",
    "        \n",
    "std= Student('arun',10)    \n",
    "std.display_student()\n"
   ]
  },
  {
   "cell_type": "code",
   "execution_count": null,
   "metadata": {},
   "outputs": [],
   "source": [
    "# Another metnod to use classes and it`s functions\n",
    "class Student:\n",
    "    \n",
    "    def __init__(self,std_name,std_mark):\n",
    "        self.name=std_name\n",
    "        self.marks=std_mark\n",
    "        self.percent=(std_mark/500)*100\n",
    "        if(self.percent > 40 and self.percent <=500):\n",
    "            self.result='pass'\n",
    "        else:\n",
    "            self.result='fail'\n",
    "\n",
    "    def display_student(self):\n",
    "        #using one line if else function\n",
    "        print (\"Name : \", self.name,  \", Marks: \", self.marks, \", Percentage :\", self.percent, \", Result : \",self.result)\n",
    "    \n",
    "        \n",
    "std= Student('arun',600)    \n",
    "std.display_student()\n"
   ]
  },
  {
   "cell_type": "markdown",
   "metadata": {},
   "source": [
    "class employee:\n",
    "    def __init__(self,emp_id,name,salary):\n",
    "        self.id=emp_id\n",
    "        self.salary= salary\n",
    "        self.name=name\n",
    "    def display_emp_details(self):\n",
    "            print(\"Employee Id :\", self.id, \",Employee Name :\", self.name, \",Salary : \", (self.salary))\n",
    "for i in range(0,10):   \n",
    "    emp_data=employee(i+1,input('enter name of employee'),int(input('enter salary :-'))-200)\n",
    "    emp_data.display_emp_details()\n"
   ]
  },
  {
   "cell_type": "markdown",
   "metadata": {},
   "source": [
    "random.randint(1,101) \n"
   ]
  },
  {
   "cell_type": "code",
   "execution_count": 1,
   "metadata": {},
   "outputs": [
    {
     "name": "stdout",
     "output_type": "stream",
     "text": [
      "enter main salary :-32323\n",
      "enter name of employeewq\n",
      "Employee Id : 1 ,Employee Name : wq ,Salary :  32123 ,Age : 36\n",
      "enter name of employeee\n",
      "Employee Id : 2 ,Employee Name : e ,Salary :  31923 ,Age : 43\n",
      "enter name of employeew\n",
      "Employee Id : 3 ,Employee Name : w ,Salary :  31723 ,Age : 31\n",
      "enter name of employeee\n",
      "Employee Id : 4 ,Employee Name : e ,Salary :  31523 ,Age : 46\n"
     ]
    }
   ],
   "source": [
    "import random\n",
    "\n",
    "class employee: \n",
    "    def __init__(self,emp_id,name,salary): \n",
    "        self.id=emp_id \n",
    "        self.salary= salary \n",
    "        self.name=name \n",
    "        \n",
    "    def display_emp_details(self): \n",
    "        print(\"Employee Id :\", self.id, \",Employee Name :\", self.name, \",Salary : \", self.salary, \",Age :\" ,emp_data.age) \n",
    "\n",
    "\n",
    "sa = int(input('enter main salary :-'))\n",
    "for i in range(1,5):\n",
    "    sa-=200\n",
    "    emp_data=employee(i,input('enter name of employee'),sa) \n",
    "    setattr(emp_data, 'age',random.randint(25,60)) #random.randint(start,end) used to generate random no.\n",
    "    emp_data.display_emp_details()\n",
    "\n"
   ]
  },
  {
   "cell_type": "markdown",
   "metadata": {},
   "source": []
  },
  {
   "cell_type": "code",
   "execution_count": 1,
   "metadata": {},
   "outputs": [
    {
     "name": "stdout",
     "output_type": "stream",
     "text": [
      "100\n",
      "18\n",
      "75\n",
      "19\n",
      "80\n",
      "86\n",
      "29\n",
      "44\n",
      "35\n",
      "13\n"
     ]
    }
   ],
   "source": [
    "import random\n",
    "for x in range(10):\n",
    "  print (random.randint(1,101))"
   ]
  },
  {
   "cell_type": "code",
   "execution_count": 7,
   "metadata": {},
   "outputs": [
    {
     "name": "stdout",
     "output_type": "stream",
     "text": [
      "5\n"
     ]
    }
   ],
   "source": [
    "# find maximum of three \n",
    "def max_of_two(x,y):\n",
    "    if (x>y):\n",
    "        return (x)\n",
    "    else:\n",
    "        return(y)\n",
    "def max_of_three(x,y,z):\n",
    "    return max_of_two(x,max_of_two(y,z))\n",
    "\n",
    "print(max_of_three(2,4,5))"
   ]
  },
  {
   "cell_type": "code",
   "execution_count": 11,
   "metadata": {},
   "outputs": [
    {
     "name": "stdout",
     "output_type": "stream",
     "text": [
      "20\n"
     ]
    }
   ],
   "source": [
    "#Write a Python function to sum all the numbers in a list. \n",
    "#Sample List : (8, 2, 3, 0, 7)\n",
    "sample_list=[8,2,3,0,7]\n",
    "def sum_of_list():\n",
    "    s=sum(sample_list)\n",
    "    print (s)\n",
    "    \n",
    "sum_of_list()"
   ]
  },
  {
   "cell_type": "code",
   "execution_count": 4,
   "metadata": {},
   "outputs": [
    {
     "name": "stdout",
     "output_type": "stream",
     "text": [
      "-336\n"
     ]
    }
   ],
   "source": [
    "#Write a Python function to multiply all the numbers in a list.\n",
    "sample_list=[8, 2, 3, -1, 7]\n",
    "def multiply():\n",
    "    result=1\n",
    "    for i in sample_list :\n",
    "        result = result * i\n",
    "        #print(i*result)\n",
    "    \n",
    "    return(result)\n",
    "\n",
    "print(multiply())"
   ]
  },
  {
   "cell_type": "code",
   "execution_count": 5,
   "metadata": {},
   "outputs": [
    {
     "data": {
      "text/plain": [
       "-336"
      ]
     },
     "execution_count": 5,
     "metadata": {},
     "output_type": "execute_result"
    }
   ],
   "source": [
    "-48 * 7"
   ]
  },
  {
   "cell_type": "code",
   "execution_count": null,
   "metadata": {},
   "outputs": [],
   "source": []
  }
 ],
 "metadata": {
  "kernelspec": {
   "display_name": "Python 3",
   "language": "python",
   "name": "python3"
  },
  "language_info": {
   "codemirror_mode": {
    "name": "ipython",
    "version": 3
   },
   "file_extension": ".py",
   "mimetype": "text/x-python",
   "name": "python",
   "nbconvert_exporter": "python",
   "pygments_lexer": "ipython3",
   "version": "3.5.2"
  }
 },
 "nbformat": 4,
 "nbformat_minor": 2
}
