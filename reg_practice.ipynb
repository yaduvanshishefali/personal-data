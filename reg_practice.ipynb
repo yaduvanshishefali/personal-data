{
 "cells": [
  {
   "cell_type": "code",
   "execution_count": 4,
   "metadata": {},
   "outputs": [
    {
     "data": {
      "text/plain": [
       "[<_sre.SRE_Match object; span=(12, 14), match='sp'>,\n",
       " <_sre.SRE_Match object; span=(20, 24), match='sppp'>,\n",
       " <_sre.SRE_Match object; span=(31, 32), match='s'>,\n",
       " <_sre.SRE_Match object; span=(34, 36), match='sp'>]"
      ]
     },
     "execution_count": 4,
     "metadata": {},
     "output_type": "execute_result"
    }
   ],
   "source": [
    "import re\n",
    "[i for i in re.finditer('sp*','Some of the special spppequences bspPPppppeginning with')]"
   ]
  },
  {
   "cell_type": "code",
   "execution_count": 3,
   "metadata": {},
   "outputs": [
    {
     "data": {
      "text/plain": [
       "[<_sre.SRE_Match object; span=(12, 14), match='sp'>,\n",
       " <_sre.SRE_Match object; span=(20, 22), match='sp'>,\n",
       " <_sre.SRE_Match object; span=(31, 32), match='s'>,\n",
       " <_sre.SRE_Match object; span=(34, 36), match='sp'>]"
      ]
     },
     "execution_count": 3,
     "metadata": {},
     "output_type": "execute_result"
    }
   ],
   "source": [
    "[i for i in re.finditer('sp?','Some of the special spppequences bspPPppppeginning with')]"
   ]
  },
  {
   "cell_type": "code",
   "execution_count": 11,
   "metadata": {},
   "outputs": [
    {
     "data": {
      "text/plain": [
       "[<_sre.SRE_Match object; span=(0, 5), match='Hello'>]"
      ]
     },
     "execution_count": 11,
     "metadata": {},
     "output_type": "execute_result"
    }
   ],
   "source": [
    "[i for i in re.finditer('^Hello','Hellogirl hellman hellmyrty mmuyhello')]"
   ]
  },
  {
   "cell_type": "code",
   "execution_count": 16,
   "metadata": {},
   "outputs": [
    {
     "data": {
      "text/plain": [
       "[<_sre.SRE_Match object; span=(39, 41), match='lo'>]"
      ]
     },
     "execution_count": 16,
     "metadata": {},
     "output_type": "execute_result"
    }
   ],
   "source": [
    "[i for i in re.finditer('lo$','Hellogirl hellmanlo hellmyrtylo mmuyhello')]"
   ]
  },
  {
   "cell_type": "code",
   "execution_count": 20,
   "metadata": {},
   "outputs": [
    {
     "data": {
      "text/plain": [
       "[<_sre.SRE_Match object; span=(5, 7), match='$1'>,\n",
       " <_sre.SRE_Match object; span=(8, 10), match='$3'>,\n",
       " <_sre.SRE_Match object; span=(19, 21), match='$2'>]"
      ]
     },
     "execution_count": 20,
     "metadata": {},
     "output_type": "execute_result"
    }
   ],
   "source": [
    "[i for i in re.finditer('\\$\\d','Hello$12$3 hellman1$23lo$ hellmyrtylo mmuyhello')]"
   ]
  },
  {
   "cell_type": "code",
   "execution_count": 23,
   "metadata": {},
   "outputs": [
    {
     "data": {
      "text/plain": [
       "[<_sre.SRE_Match object; span=(7, 10), match='abc'>,\n",
       " <_sre.SRE_Match object; span=(18, 21), match='abc'>,\n",
       " <_sre.SRE_Match object; span=(21, 24), match='abc'>]"
      ]
     },
     "execution_count": 23,
     "metadata": {},
     "output_type": "execute_result"
    }
   ],
   "source": [
    "[i for i in re.finditer('a(bc)+','a_bcbc abc a_ab_c abcabccb')]"
   ]
  },
  {
   "cell_type": "code",
   "execution_count": 24,
   "metadata": {},
   "outputs": [
    {
     "data": {
      "text/plain": [
       "[<_sre.SRE_Match object; span=(0, 1), match='a'>,\n",
       " <_sre.SRE_Match object; span=(7, 10), match='abc'>,\n",
       " <_sre.SRE_Match object; span=(11, 12), match='a'>,\n",
       " <_sre.SRE_Match object; span=(13, 14), match='a'>,\n",
       " <_sre.SRE_Match object; span=(18, 21), match='abc'>,\n",
       " <_sre.SRE_Match object; span=(21, 24), match='abc'>]"
      ]
     },
     "execution_count": 24,
     "metadata": {},
     "output_type": "execute_result"
    }
   ],
   "source": [
    "[i for i in re.finditer('a(bc)*','a_bcbc abc a_ab_c abcabccb')]"
   ]
  },
  {
   "cell_type": "code",
   "execution_count": 26,
   "metadata": {},
   "outputs": [
    {
     "data": {
      "text/plain": [
       "[<_sre.SRE_Match object; span=(0, 1), match='a'>,\n",
       " <_sre.SRE_Match object; span=(7, 10), match='abc'>,\n",
       " <_sre.SRE_Match object; span=(11, 12), match='a'>,\n",
       " <_sre.SRE_Match object; span=(13, 14), match='a'>,\n",
       " <_sre.SRE_Match object; span=(18, 19), match='a'>,\n",
       " <_sre.SRE_Match object; span=(22, 25), match='abc'>]"
      ]
     },
     "execution_count": 26,
     "metadata": {},
     "output_type": "execute_result"
    }
   ],
   "source": [
    "[i for i in re.finditer('a(?:bc)*','a_bcbc abc a_ab_c ab_cabccb')]"
   ]
  },
  {
   "cell_type": "code",
   "execution_count": 9,
   "metadata": {},
   "outputs": [
    {
     "data": {
      "text/plain": [
       "[<_sre.SRE_Match object; span=(7, 10), match='abc'>,\n",
       " <_sre.SRE_Match object; span=(22, 25), match='abc'>]"
      ]
     },
     "execution_count": 9,
     "metadata": {},
     "output_type": "execute_result"
    }
   ],
   "source": [
    "[i for i in re.finditer('a(?P<foo>bc)','a_bcbc abc a_ab_c ab_cabccb')]"
   ]
  },
  {
   "cell_type": "code",
   "execution_count": 35,
   "metadata": {},
   "outputs": [
    {
     "data": {
      "text/plain": [
       "[<_sre.SRE_Match object; span=(10, 15), match='<div>'>,\n",
       " <_sre.SRE_Match object; span=(26, 32), match='</div>'>,\n",
       " <_sre.SRE_Match object; span=(37, 42), match='<div>'>,\n",
       " <_sre.SRE_Match object; span=(53, 59), match='</div>'>]"
      ]
     },
     "execution_count": 35,
     "metadata": {},
     "output_type": "execute_result"
    }
   ],
   "source": [
    "[i for i in re.finditer('<.+?>','This is a <div> simple div</div> test<div>asdasdasdas</div>')]"
   ]
  },
  {
   "cell_type": "code",
   "execution_count": 36,
   "metadata": {},
   "outputs": [
    {
     "data": {
      "text/plain": [
       "[<_sre.SRE_Match object; span=(10, 15), match='<div>'>,\n",
       " <_sre.SRE_Match object; span=(26, 32), match='</div>'>]"
      ]
     },
     "execution_count": 36,
     "metadata": {},
     "output_type": "execute_result"
    }
   ],
   "source": [
    "[i for i in re.finditer('<[^<>]+>','This is a <div> simple div</div> test')]"
   ]
  },
  {
   "cell_type": "code",
   "execution_count": null,
   "metadata": {},
   "outputs": [],
   "source": []
  }
 ],
 "metadata": {
  "kernelspec": {
   "display_name": "Python 3",
   "language": "python",
   "name": "python3"
  },
  "language_info": {
   "codemirror_mode": {
    "name": "ipython",
    "version": 3
   },
   "file_extension": ".py",
   "mimetype": "text/x-python",
   "name": "python",
   "nbconvert_exporter": "python",
   "pygments_lexer": "ipython3",
   "version": "3.5.2"
  }
 },
 "nbformat": 4,
 "nbformat_minor": 2
}
