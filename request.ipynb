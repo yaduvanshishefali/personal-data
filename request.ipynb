{
 "cells": [
  {
   "cell_type": "code",
   "execution_count": null,
   "metadata": {},
   "outputs": [],
   "source": [
    "import requests as r\n",
    "\n",
    "p = r.get('http://www.scipy-lectures.org/intro/language/io.html').text"
   ]
  },
  {
   "cell_type": "code",
   "execution_count": null,
   "metadata": {},
   "outputs": [],
   "source": [
    "open('p.html','w').write(p)"
   ]
  },
  {
   "cell_type": "code",
   "execution_count": null,
   "metadata": {},
   "outputs": [],
   "source": [
    "p.find(' Iterating over a file')"
   ]
  },
  {
   "cell_type": "code",
   "execution_count": null,
   "metadata": {},
   "outputs": [],
   "source": [
    "p[9200:9500]"
   ]
  },
  {
   "cell_type": "code",
   "execution_count": null,
   "metadata": {},
   "outputs": [],
   "source": [
    "import requests as res\n",
    "q= res.get('https://en.wikipedia.org/wiki/A._P._J._Abdul_Kalam').text"
   ]
  },
  {
   "cell_type": "markdown",
   "metadata": {},
   "source": [
    "uopen('q.html','w').write(q)"
   ]
  },
  {
   "cell_type": "code",
   "execution_count": 2,
   "metadata": {},
   "outputs": [],
   "source": [
    "import requests\n",
    "req = requests.post('https://en.wikipedia.org/w/index.php', data = {'search':'Nanotechnology'})\n",
    "req.raise_for_status()\n",
    "with open('Nanotechnology.html', 'wb') as fd:\n",
    "    for chunk in req.iter_content(chunk_size=50000):\n",
    "        fd.write(chunk)"
   ]
  },
  {
   "cell_type": "code",
   "execution_count": null,
   "metadata": {},
   "outputs": [],
   "source": [
    "url = 'https://upload.wikimedia.org/wikipedia/commons/thumb/3/34/Apj_abdul_kalam.JPG/230px-Apj_abdul_kalam.JPG'\n",
    "file = 'abdul_kalam.jpeg'\n",
    "\n",
    "r=requests.get(url,stream=True)\n",
    "with open(file,'wb') as f:\n",
    "    for chunk in r.iter_content(chunk_size=10274):\n",
    "        if chunk :\n",
    "            f.write(chunk)"
   ]
  },
  {
   "cell_type": "code",
   "execution_count": null,
   "metadata": {},
   "outputs": [],
   "source": [
    "import requests\n",
    "req = requests.get('https://tutsplus.com/')"
   ]
  },
  {
   "cell_type": "code",
   "execution_count": null,
   "metadata": {},
   "outputs": [],
   "source": [
    "req.headers\n",
    "req.status_code"
   ]
  },
  {
   "cell_type": "code",
   "execution_count": null,
   "metadata": {},
   "outputs": [],
   "source": [
    "import requests\n",
    "req = requests.get('http://www.tutsplus.com/')\n",
    " \n",
    "req.encoding      # returns 'utf-8'\n",
    "req.status_code   # returns 200\n",
    "req.elapsed       # returns datetime.timedelta(0, 1, 666890)\n",
    "req.url           # returns 'https://tutsplus.com/'\n",
    " \n",
    "print(req.history)      \n",
    "# returns [<Response [301]>, <Response [301]>]\n",
    " \n",
    "req.headers['Content-Type']\n",
    "# returns 'text/html; charset"
   ]
  },
  {
   "cell_type": "code",
   "execution_count": null,
   "metadata": {},
   "outputs": [],
   "source": [
    "import requests\n",
    "req = requests.get('https://en.wikipedia.org/wiki/Main_Page')\n",
    "req.connection\n",
    "req.headers\n",
    "for i in req.headers :\n",
    "    print(i, req.headers[i])"
   ]
  },
  {
   "cell_type": "code",
   "execution_count": null,
   "metadata": {},
   "outputs": [],
   "source": [
    "open('data.html','w').write(req.text)"
   ]
  },
  {
   "cell_type": "code",
   "execution_count": 7,
   "metadata": {},
   "outputs": [
    {
     "data": {
      "text/plain": [
       "{'X-Frame-Options': 'DENY', 'Date': 'Thu, 28 Jun 2018 06:03:44 GMT', 'Set-Cookie': 'dwf_sg_task_completion=True; expires=Sat, 28-Jul-2018 06:03:45 GMT; Max-Age=2592000; Path=/; secure', 'Transfer-Encoding': 'chunked', 'Vary': 'Accept-Encoding,Cookie', 'Content-Language': 'en-US', 'Access-Control-Allow-Origin': '*', 'Content-Type': 'text/html; charset=utf-8', 'Server': 'meinheld/0.6.1', 'x-content-type-options': 'nosniff', 'Content-Encoding': 'gzip', 'Cache-Control': 's-maxage=300, public, max-age=0', 'Via': '1.1 f8c1363ce634a32c7c7c559e4a511533.cloudfront.net (CloudFront)', 'Connection': 'keep-alive', 'x-xss-protection': '1; mode=block', 'X-kuma-revision': '1254961', 'X-Cache': 'Miss from cloudfront', 'X-Amz-Cf-Id': 'UhW8sqcPFSeLUdIYSHhA2a4pwk670PcBIyBNSIQidh1CyqQlnhET5g==', 'strict-transport-security': 'max-age=63072000'}"
      ]
     },
     "execution_count": 7,
     "metadata": {},
     "output_type": "execute_result"
    }
   ],
   "source": [
    "#rng = {'Range':'bytes =0-5000000'}\n",
    "#req = requests.get('https://en.wikipedia.org/wiki/Main_Page', headers = rng)\n",
    "#open('data2.html','w').write(req.text)\n",
    "\n",
    "\n",
    "import requests\n",
    " \n",
    "url = 'https://developer.mozilla.org/en-US/docs/Web/HTTP/Headers/User-Agent'\n",
    " \n",
    "headers = {'user-agent': 'your-own-user-agent/0.0.1'}\n",
    "cookies = {'visit-month': 'February'}\n",
    " \n",
    "req = requests.get(url, headers=headers, cookies=cookies)\n",
    "req.headers\n",
    "requests.cookies.RequestsCookieJar()"
   ]
  },
  {
   "cell_type": "code",
   "execution_count": 1,
   "metadata": {},
   "outputs": [],
   "source": [
    "import requests as req\n",
    "j=[]\n",
    "r = req.get('http://79.127.126.110/Serial/The%20Vampire%20Diaries/S01/Vpr.Dres_S01.E01.mkv', stream= True)\n",
    "with open('v.mkv','wb') as f:\n",
    "    for chunk in r.iter_content(chunk_size =1024):\n",
    "        if chunk :\n",
    "            f.write(chunk)\n",
    "            j.append(chunk)\n",
    "            "
   ]
  },
  {
   "cell_type": "code",
   "execution_count": null,
   "metadata": {},
   "outputs": [],
   "source": [
    "import requests as res\n",
    "rng = {'Range' : 'bytes=0-5000000'}\n",
    "j=[]\n",
    "res = requests.get('http://79.127.126.110/Serial/Game%20of%20Thrones/S02/Game.of.Thrones.S02.E04.480p.mkv',stream=True)\n",
    "with open('gotS2E4.mkv','wb') as f:\n",
    "   for chunk in res.iter_content(chunk_size=1024):\n",
    "       if(chunk):\n",
    "           f.write(chunk)\n",
    "           j.append(chunk)\n",
    "open('t1.htm','w').write(str(b''.join(j[5:])))"
   ]
  },
  {
   "cell_type": "code",
   "execution_count": 16,
   "metadata": {},
   "outputs": [
    {
     "name": "stdout",
     "output_type": "stream",
     "text": [
      "CA9480183987a4ac5d6296b7698bfbf6c0\n"
     ]
    }
   ],
   "source": [
    "from twilio.rest import Client\n",
    "\n",
    "\n",
    "# Your Account Sid and Auth Token from twilio.com/console\n",
    "account_sid = 'ACd0246d93e5b215fab4e6764ad62f1ae3'\n",
    "auth_token = '91db94aa01e7387be35261638ca10d3a'\n",
    "client = Client(account_sid, auth_token)\n",
    "\n",
    "call = client.calls.create(\n",
    "                        url='http://demo.twilio.com/docs/voice.xml',\n",
    "                        from_='+13862043690',\n",
    "                        to='+919928820644'\n",
    "                          )\n",
    "\n",
    "print(call.sid)"
   ]
  },
  {
   "cell_type": "code",
   "execution_count": 14,
   "metadata": {},
   "outputs": [
    {
     "name": "stdout",
     "output_type": "stream",
     "text": [
      "Help on method create in module twilio.rest.api.v2010.account.call:\n",
      "\n",
      "create(to, from_, method=<object object at 0x7f9cd2cee490>, fallback_url=<object object at 0x7f9cd2cee490>, fallback_method=<object object at 0x7f9cd2cee490>, status_callback=<object object at 0x7f9cd2cee490>, status_callback_event=<object object at 0x7f9cd2cee490>, status_callback_method=<object object at 0x7f9cd2cee490>, send_digits=<object object at 0x7f9cd2cee490>, if_machine=<object object at 0x7f9cd2cee490>, timeout=<object object at 0x7f9cd2cee490>, record=<object object at 0x7f9cd2cee490>, recording_channels=<object object at 0x7f9cd2cee490>, recording_status_callback=<object object at 0x7f9cd2cee490>, recording_status_callback_method=<object object at 0x7f9cd2cee490>, sip_auth_username=<object object at 0x7f9cd2cee490>, sip_auth_password=<object object at 0x7f9cd2cee490>, machine_detection=<object object at 0x7f9cd2cee490>, machine_detection_timeout=<object object at 0x7f9cd2cee490>, recording_status_callback_event=<object object at 0x7f9cd2cee490>, trim=<object object at 0x7f9cd2cee490>, caller_id=<object object at 0x7f9cd2cee490>, url=<object object at 0x7f9cd2cee490>, application_sid=<object object at 0x7f9cd2cee490>) method of twilio.rest.api.v2010.account.call.CallList instance\n",
      "    Create a new CallInstance\n",
      "    \n",
      "    :param unicode to: Phone number, SIP address, or client identifier to call\n",
      "    :param unicode from_: Twilio number from which to originate the call\n",
      "    :param unicode method: HTTP method to use to fetch TwiML\n",
      "    :param unicode fallback_url: Fallback URL in case of error\n",
      "    :param unicode fallback_method: HTTP Method to use with FallbackUrl\n",
      "    :param unicode status_callback: Status Callback URL\n",
      "    :param unicode status_callback_event: The call progress events that Twilio will send webhooks on.\n",
      "    :param unicode status_callback_method: HTTP Method to use with StatusCallback\n",
      "    :param unicode send_digits: Digits to send\n",
      "    :param unicode if_machine: The if_machine\n",
      "    :param unicode timeout: Number of seconds to wait for an answer\n",
      "    :param bool record: Whether or not to record the Call\n",
      "    :param unicode recording_channels: mono or dualSet this parameter to specify the number of channels in the final recording.\n",
      "    :param unicode recording_status_callback: A URL that Twilio will send a webhook request to when the recording is available for access.\n",
      "    :param unicode recording_status_callback_method: The HTTP method Twilio should use when requesting the `RecordingStatusCallback` URL.\n",
      "    :param unicode sip_auth_username: The sip_auth_username\n",
      "    :param unicode sip_auth_password: The sip_auth_password\n",
      "    :param unicode machine_detection: Enable machine detection or end of greeting detection\n",
      "    :param unicode machine_detection_timeout: Number of miliseconds to wait for machine detection\n",
      "    :param unicode recording_status_callback_event: The recording status changes that Twilio will send webhooks on to the URL specified in RecordingStatusCallback.\n",
      "    :param unicode trim: Set this parameter to control trimming of silence on the recording.\n",
      "    :param unicode caller_id: The phone number, SIP address, or Client identifier that made this Call. Phone numbers are in E.164 format (e.g., +16175551212). SIP addresses are formatted as `name@company.com`.\n",
      "    :param unicode url: Url from which to fetch TwiML\n",
      "    :param unicode application_sid: ApplicationSid that configures from where to fetch TwiML\n",
      "    \n",
      "    :returns: Newly created CallInstance\n",
      "    :rtype: twilio.rest.api.v2010.account.call.CallInstance\n",
      "\n"
     ]
    }
   ],
   "source": [
    "help(client.calls.create)"
   ]
  },
  {
   "cell_type": "code",
   "execution_count": null,
   "metadata": {},
   "outputs": [],
   "source": []
  }
 ],
 "metadata": {
  "kernelspec": {
   "display_name": "Python 3",
   "language": "python",
   "name": "python3"
  },
  "language_info": {
   "codemirror_mode": {
    "name": "ipython",
    "version": 3
   },
   "file_extension": ".py",
   "mimetype": "text/x-python",
   "name": "python",
   "nbconvert_exporter": "python",
   "pygments_lexer": "ipython3",
   "version": "3.5.2"
  }
 },
 "nbformat": 4,
 "nbformat_minor": 2
}
