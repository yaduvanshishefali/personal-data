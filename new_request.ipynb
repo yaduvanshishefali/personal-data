{
 "cells": [
  {
   "cell_type": "code",
   "execution_count": 2,
   "metadata": {},
   "outputs": [
    {
     "name": "stdout",
     "output_type": "stream",
     "text": [
      "received chunks\n",
      "received chunks\n"
     ]
    }
   ],
   "source": [
    "# Use of chunk\n",
    "import requests as r \n",
    "req = r.get('https://cms-assets.tutsplus.com/uploads/users/1251/posts/28204/image/Forest_Background_Optimized.jpg', stream = True)\n",
    "with open('forest.jpg','wb') as fd:\n",
    "    for chunk in req.iter_content(chunk_size = 50000):# to get data in pieces use chunk_size\n",
    "        print('received chunks')\n",
    "        fd.write(chunk)\n",
    "    "
   ]
  },
  {
   "cell_type": "code",
   "execution_count": 3,
   "metadata": {},
   "outputs": [
    {
     "data": {
      "text/plain": [
       "'https://pixabay.com/en/photos/?min_width=800&q=Forest&min_height=600&order=popular'"
      ]
     },
     "execution_count": 3,
     "metadata": {},
     "output_type": "execute_result"
    }
   ],
   "source": [
    "# pass parameters in get request\n",
    "import requests\n",
    " \n",
    "query = {'q': 'Forest', 'order': 'popular', 'min_width': '800', 'min_height': '600'}\n",
    "req = requests.get('https://pixabay.com/en/photos/', params=query)\n",
    " \n",
    "req.url"
   ]
  },
  {
   "cell_type": "code",
   "execution_count": 51,
   "metadata": {},
   "outputs": [
    {
     "name": "stdout",
     "output_type": "stream",
     "text": [
      "http://maps.googleapis.com/maps/api/geocode/json?adddress=Govind+dev+ji+mandir%2Cjaipur%2Crajassthan\n",
      "{'status': 'INVALID_REQUEST', 'error_message': \"Invalid request. Missing the 'address', 'components', 'latlng' or 'place_id' parameter.\", 'results': []}\n"
     ]
    }
   ],
   "source": [
    "import requests as r\n",
    "url = 'http://maps.googleapis.com/maps/api/geocode/json'\n",
    "location = 'Govind dev ji mandir,jaipur,rajassthan'\n",
    "param = { 'adddress' : location}\n",
    "\n",
    "req = r.get(url = url , params= param) # sending get request\n",
    "print(req.url)\n",
    "data = req.json()\n",
    "print(data)"
   ]
  },
  {
   "cell_type": "code",
   "execution_count": 6,
   "metadata": {},
   "outputs": [
    {
     "data": {
      "text/plain": [
       "'2fd301a1d5c8409b8ea8b01f2c8a6702'"
      ]
     },
     "execution_count": 6,
     "metadata": {},
     "output_type": "execute_result"
    }
   ],
   "source": [
    "'2fd301a1d5c8409b8ea8b01f2c8a6702'"
   ]
  },
  {
   "cell_type": "code",
   "execution_count": 37,
   "metadata": {},
   "outputs": [],
   "source": [
    "from newsapi import NewsApiClient"
   ]
  },
  {
   "cell_type": "code",
   "execution_count": 14,
   "metadata": {},
   "outputs": [
    {
     "name": "stdout",
     "output_type": "stream",
     "text": [
      "Variable        Type        Data/Info\n",
      "-------------------------------------\n",
      "NewsApiClient   type        <class 'newsapi.newsapi_client.NewsApiClient'>\n",
      "data            dict        n=3\n",
      "location        str         Govind dev ji mandir\n",
      "param           dict        n=1\n",
      "r               module      <module 'requests' from '<...>es/requests/__init__.py'>\n",
      "req             Response    <Response [400]>\n",
      "url             str         http://maps.googleapis.com/maps/api/geocode/json\n"
     ]
    }
   ],
   "source": [
    "%whos"
   ]
  },
  {
   "cell_type": "code",
   "execution_count": 50,
   "metadata": {},
   "outputs": [
    {
     "ename": "NewsAPIException",
     "evalue": "{'status': 'error', 'message': \"One or more of the news sources you've requested doesn't exist (crypto coins news). Check your spelling, or see /v2/sources for a list of valid sources.\", 'code': 'sourceDoesNotExist'}",
     "output_type": "error",
     "traceback": [
      "\u001b[0;31m---------------------------------------------------------------------------\u001b[0m",
      "\u001b[0;31mNewsAPIException\u001b[0m                          Traceback (most recent call last)",
      "\u001b[0;32m<ipython-input-50-b52150ac88ff>\u001b[0m in \u001b[0;36m<module>\u001b[0;34m()\u001b[0m\n\u001b[1;32m      2\u001b[0m top_headlines = newsapi.get_top_headlines(q='bitcoin',\n\u001b[1;32m      3\u001b[0m                                           \u001b[0msources\u001b[0m\u001b[0;34m=\u001b[0m\u001b[0;34m'crypto coins news'\u001b[0m\u001b[0;34m,\u001b[0m\u001b[0;34m\u001b[0m\u001b[0m\n\u001b[0;32m----> 4\u001b[0;31m                                           language='en')\n\u001b[0m\u001b[1;32m      5\u001b[0m \u001b[0mprint\u001b[0m\u001b[0;34m(\u001b[0m\u001b[0mtop_headlines\u001b[0m\u001b[0;34m)\u001b[0m\u001b[0;34m\u001b[0m\u001b[0m\n",
      "\u001b[0;32m~/.local/lib/python3.5/site-packages/newsapi/newsapi_client.py\u001b[0m in \u001b[0;36mget_top_headlines\u001b[0;34m(self, q, sources, language, country, category, page_size, page)\u001b[0m\n\u001b[1;32m    117\u001b[0m         \u001b[0;31m# Check Status of Request\u001b[0m\u001b[0;34m\u001b[0m\u001b[0;34m\u001b[0m\u001b[0m\n\u001b[1;32m    118\u001b[0m         \u001b[0;32mif\u001b[0m \u001b[0mr\u001b[0m\u001b[0;34m.\u001b[0m\u001b[0mstatus_code\u001b[0m \u001b[0;34m!=\u001b[0m \u001b[0mrequests\u001b[0m\u001b[0;34m.\u001b[0m\u001b[0mcodes\u001b[0m\u001b[0;34m.\u001b[0m\u001b[0mok\u001b[0m\u001b[0;34m:\u001b[0m\u001b[0;34m\u001b[0m\u001b[0m\n\u001b[0;32m--> 119\u001b[0;31m             \u001b[0;32mraise\u001b[0m \u001b[0mNewsAPIException\u001b[0m\u001b[0;34m(\u001b[0m\u001b[0mr\u001b[0m\u001b[0;34m.\u001b[0m\u001b[0mjson\u001b[0m\u001b[0;34m(\u001b[0m\u001b[0;34m)\u001b[0m\u001b[0;34m)\u001b[0m\u001b[0;34m\u001b[0m\u001b[0m\n\u001b[0m\u001b[1;32m    120\u001b[0m \u001b[0;34m\u001b[0m\u001b[0m\n\u001b[1;32m    121\u001b[0m         \u001b[0;32mreturn\u001b[0m \u001b[0mr\u001b[0m\u001b[0;34m.\u001b[0m\u001b[0mjson\u001b[0m\u001b[0;34m(\u001b[0m\u001b[0;34m)\u001b[0m\u001b[0;34m\u001b[0m\u001b[0m\n",
      "\u001b[0;31mNewsAPIException\u001b[0m: {'status': 'error', 'message': \"One or more of the news sources you've requested doesn't exist (crypto coins news). Check your spelling, or see /v2/sources for a list of valid sources.\", 'code': 'sourceDoesNotExist'}"
     ]
    }
   ],
   "source": [
    "newsapi = NewsApiClient(api_key='2fd301a1d5c8409b8ea8b01f2c8a6702')\n",
    "top_headlines = newsapi.get_top_headlines(q='bitcoin',\n",
    "                                          sources='crypto coins news',\n",
    "                                          language='en')\n",
    "print(top_headlines)"
   ]
  },
  {
   "cell_type": "code",
   "execution_count": 18,
   "metadata": {},
   "outputs": [],
   "source": [
    "sources = newsapi.get_sources()"
   ]
  },
  {
   "cell_type": "code",
   "execution_count": 34,
   "metadata": {},
   "outputs": [],
   "source": [
    "import newsapi"
   ]
  },
  {
   "cell_type": "code",
   "execution_count": 35,
   "metadata": {},
   "outputs": [
    {
     "name": "stdout",
     "output_type": "stream",
     "text": [
      "Variable        Type        Data/Info\n",
      "-------------------------------------\n",
      "NewsApiClient   type        <class 'newsapi.newsapi_client.NewsApiClient'>\n",
      "data            dict        n=3\n",
      "location        str         Govind dev ji mandir\n",
      "newsapi         module      <module 'newsapi' from '/<...>ges/newsapi/__init__.py'>\n",
      "param           dict        n=1\n",
      "r               module      <module 'requests' from '<...>es/requests/__init__.py'>\n",
      "req             Response    <Response [400]>\n",
      "sources         dict        n=2\n",
      "top_headlines   dict        n=3\n",
      "url             str         http://maps.googleapis.com/maps/api/geocode/json\n"
     ]
    }
   ],
   "source": [
    "%whos"
   ]
  },
  {
   "cell_type": "code",
   "execution_count": 36,
   "metadata": {},
   "outputs": [
    {
     "data": {
      "text/plain": [
       "'/home/launchpad/.local/lib/python3.5/site-packages/newsapi/__init__.py'"
      ]
     },
     "execution_count": 36,
     "metadata": {},
     "output_type": "execute_result"
    }
   ],
   "source": [
    "newsapi.__file__"
   ]
  },
  {
   "cell_type": "code",
   "execution_count": 40,
   "metadata": {},
   "outputs": [
    {
     "name": "stdout",
     "output_type": "stream",
     "text": [
      "Help on method get_top_headlines in module newsapi.newsapi_client:\n",
      "\n",
      "get_top_headlines(q=None, sources=None, language=None, country=None, category=None, page_size=None, page=None) method of newsapi.newsapi_client.NewsApiClient instance\n",
      "    Returns live top and breaking headlines for a country, specific category in a country, single source, or multiple sources..\n",
      "    \n",
      "    Optional parameters:\n",
      "        (str) q - return headlines w/ specific keyword or phrase. For example:\n",
      "                  'bitcoin', 'trump', 'tesla', 'ethereum', etc.\n",
      "                    \n",
      "        (str) sources - return headlines of news sources! some Valid values are:\n",
      "                        'bbc-news', 'the-verge', 'abc-news', 'crypto coins news',\n",
      "                        'ary news','associated press','wired','aftenposten','australian financial review','axios',\n",
      "                        'bbc news','bild','blasting news','bloomberg','business insider','engadget','google news',\n",
      "                        'hacker news','info money,'recode','techcrunch','techradar','the next web','the verge' etc.\n",
      "                                                \n",
      "        (str) language - The 2-letter ISO-639-1 code of the language you want to get headlines for. Valid values are:\n",
      "                         'ar','de','en','es','fr','he','it','nl','no','pt','ru','se','ud','zh'\n",
      "                    \n",
      "        (str) country - The 2-letter ISO 3166-1 code of the country you want to get headlines! Valid values are:\n",
      "                        'ae','ar','at','au','be','bg','br','ca','ch','cn','co','cu','cz','de','eg','fr','gb','gr',                                                                      \n",
      "                        'hk','hu','id','ie','il','in','it','jp','kr','lt','lv','ma','mx','my','ng','nl','no','nz',\n",
      "                        'ph','pl','pt','ro','rs','ru','sa','se','sg','si','sk','th','tr','tw','ua','us'\n",
      "                                                        \n",
      "        (str) category - The category you want to get headlines for! Valid values are:\n",
      "                         'business','entertainment','general','health','science','sports','technology'\n",
      "                                                        \n",
      "        (int) page_size - The number of results to return per page (request). 20 is the default, 100 is the maximum. \n",
      "                                                        \n",
      "        (int) page - Use this to page through the results if the total results found is greater than the page size.\n",
      "\n"
     ]
    }
   ],
   "source": [
    "help(newsapi.get_top_headlines)"
   ]
  },
  {
   "cell_type": "code",
   "execution_count": null,
   "metadata": {},
   "outputs": [],
   "source": []
  }
 ],
 "metadata": {
  "kernelspec": {
   "display_name": "Python 3",
   "language": "python",
   "name": "python3"
  },
  "language_info": {
   "codemirror_mode": {
    "name": "ipython",
    "version": 3
   },
   "file_extension": ".py",
   "mimetype": "text/x-python",
   "name": "python",
   "nbconvert_exporter": "python",
   "pygments_lexer": "ipython3",
   "version": "3.5.2"
  }
 },
 "nbformat": 4,
 "nbformat_minor": 2
}
