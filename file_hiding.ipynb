{
 "cells": [
  {
   "cell_type": "code",
   "execution_count": 12,
   "metadata": {},
   "outputs": [
    {
     "name": "stdout",
     "output_type": "stream",
     "text": [
      "path : /home/launchpad/Documents/hello\n"
     ]
    }
   ],
   "source": [
    "import os\n",
    "import shutil\n",
    "\n",
    "path = input('path : ')\n",
    "files = os.listdir(path)\n",
    "#str(files)"
   ]
  },
  {
   "cell_type": "code",
   "execution_count": 13,
   "metadata": {},
   "outputs": [],
   "source": [
    "for i,f in enumerate(files):\n",
    "    #os.path.join(path,'fun.html')  \n",
    "    old_file =os.path.join(path,f)\n",
    "    new_file = (os.path.join(path,str(i)+'.fhd'))\n",
    "    os.rename(old_file,new_file)\n",
    "    open('dir.txt','a').write(old_file +'\\t' + new_file +'\\n')"
   ]
  },
  {
   "cell_type": "code",
   "execution_count": 14,
   "metadata": {},
   "outputs": [
    {
     "name": "stdout",
     "output_type": "stream",
     "text": [
      "['/home/launchpad/Documents/hello/minions.jpg', '/home/launchpad/Documents/hello/smurfs_the_lost_village_2017_movie_4k-HD.jpg', '/home/launchpad/Documents/hello/minions.jpg', '/home/launchpad/Documents/hello/smurfs_the_lost_village_2017_movie_4k-HD.jpg']\n",
      "/home/launchpad/Documents/hello/minions.jpg\n",
      "/home/launchpad/Documents/hello/smurfs_the_lost_village_2017_movie_4k-HD.jpg\n",
      "/home/launchpad/Documents/hello/minions.jpg\n",
      "/home/launchpad/Documents/hello/smurfs_the_lost_village_2017_movie_4k-HD.jpg0\n"
     ]
    },
    {
     "data": {
      "text/plain": [
       "'/home/launchpad/Documents/decrypted_data/minions.jpg'"
      ]
     },
     "execution_count": 14,
     "metadata": {},
     "output_type": "execute_result"
    }
   ],
   "source": [
    "fs = [i.split('\\t') for i in open('dir.txt','r').read().split('\\n')]\n",
    "o_ = [i[0] for i in fs[:-1]]\n",
    "print (o_)\n",
    "n_ = [i[1] for i in fs[:-1]]\n",
    "i = int(input('\\n'.join(o_)))\n",
    "destination = '/home/launchpad/Documents/decrypted_data'\n",
    "os.rename(n_[i],o_[i])\n",
    "os.system(o_[i])\n",
    "shutil.move(o_[i],destination)\n",
    "o_.remove(o_[i])"
   ]
  },
  {
   "cell_type": "code",
   "execution_count": null,
   "metadata": {},
   "outputs": [],
   "source": []
  },
  {
   "cell_type": "code",
   "execution_count": null,
   "metadata": {},
   "outputs": [],
   "source": []
  },
  {
   "cell_type": "markdown",
   "metadata": {},
   "source": []
  },
  {
   "cell_type": "code",
   "execution_count": null,
   "metadata": {},
   "outputs": [],
   "source": []
  },
  {
   "cell_type": "code",
   "execution_count": 7,
   "metadata": {},
   "outputs": [
    {
     "name": "stdout",
     "output_type": "stream",
     "text": [
      "enter path of those files which you want to encrypt:-/home/launchpad/Documents/hello\n",
      "/home/launchpad/Documents/hello/minions.jpg\n",
      "/home/launchpad/Documents/hello/RK_I0414.JPG\n",
      "/home/launchpad/Documents/hello/smurfs_the_lost_village_2017_movie_4k-HD.jpg\n",
      "/home/launchpad/Documents/hello/RK_I0415.JPG3\n",
      "Enter desination path where you want to move deccrypted data/home/launchpad/Documents/decrypted_data\n"
     ]
    },
    {
     "data": {
      "text/plain": [
       "[None]"
      ]
     },
     "execution_count": 7,
     "metadata": {},
     "output_type": "execute_result"
    }
   ],
   "source": [
    "# Make an class for encryption and decryption cut decrypted file from encrypted files folder and decrypted file should be move in new folder\n",
    "import os\n",
    "import shutil\n",
    "\n",
    "path = input('enter path of those files which you want to encrypt:-'.format())\n",
    "files = os.listdir(path)\n",
    "class datahiding :\n",
    "    global path , files\n",
    "    def __init__(self):\n",
    "        self.path = path\n",
    "        self.files = files\n",
    "        \n",
    "    def encrypt(self):\n",
    "        for i,f in enumerate(self.files):\n",
    "            \n",
    "    #os.path.join(path,'fun.html')  \n",
    "            old_file =os.path.join(self.path,f)\n",
    "            new_file = (os.path.join(self.path,str(i)+'.fhd'))\n",
    "            os.rename(old_file,new_file)\n",
    "            open('dir1.txt','a').write(old_file +'\\t' + new_file +'\\n')\n",
    "    \n",
    "    def decrypt(self):\n",
    "        fs = [i.split('\\t') for i in open('dir1.txt','r').read().split('\\n')]\n",
    "        o_ = [i[0] for i in fs[:-1]]\n",
    "        n_ = [i[1] for i in fs[:-1]]\n",
    "        i = int(input('\\n'.join(o_)))\n",
    "        os.rename(n_[i],o_[i])\n",
    "        os.system(o_[i])        \n",
    "        destination = input('Enter desination path where you want to move deccrypted data'.format())\n",
    "        shutil.move(o_[i],destination)  \n",
    "        \n",
    "    def stop(self):\n",
    "        break:\n",
    "        \n",
    "data_hide=datahiding()\n",
    "[data_hide.decrypt() if(files[j].endswith('.fhd')) elif data_hide.encrypt() else data_hide.stop() for j,k in enumerate(files)]\n"
   ]
  },
  {
   "cell_type": "code",
   "execution_count": null,
   "metadata": {},
   "outputs": [],
   "source": []
  }
 ],
 "metadata": {
  "kernelspec": {
   "display_name": "Python 3",
   "language": "python",
   "name": "python3"
  },
  "language_info": {
   "codemirror_mode": {
    "name": "ipython",
    "version": 3
   },
   "file_extension": ".py",
   "mimetype": "text/x-python",
   "name": "python",
   "nbconvert_exporter": "python",
   "pygments_lexer": "ipython3",
   "version": "3.5.2"
  }
 },
 "nbformat": 4,
 "nbformat_minor": 2
}
