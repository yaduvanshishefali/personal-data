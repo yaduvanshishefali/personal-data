{
 "cells": [
  {
   "cell_type": "code",
   "execution_count": null,
   "metadata": {},
   "outputs": [],
   "source": [
    "from selenium import webdriver\n",
    "from selenium.webdriver.common.keys import Keys\n",
    "from selenium.webdriver.support.ui import Select\n",
    "import unittest\n",
    "import io\n",
    "from selenium.webdriver.common.by import By\n",
    "\n",
    "class fb_reg(unittest.TestCase):\n",
    "        def setUp(self):\n",
    "                self.driver = webdriver.Firefox(executable_path='/home/launchpad/Desktop/python/geckodriver') \n",
    "\n",
    "        def test_register(self):\n",
    "                driver = self.driver\n",
    "                driver.get('https://www.facebook.com/')\n",
    "                self.assertIn('Facebook – log in or sign up',driver.title)\n",
    "                fname = driver.find_element_by_name('firstname')\n",
    "                fname.send_keys('sdasefw')\n",
    "                lname = driver.find_element_by_name('lastname')\n",
    "                lname.send_keys('sadasd11')\n",
    "                email = driver.find_element_by_name('reg_email__')\n",
    "                email.send_keys('deepaliyaduv1912@gmail.com')\n",
    "                re_email = driver.find_element_by_name('reg_email_confirmation__')\n",
    "                re_email.send_keys('deepaliyaduv1912@gmail.com')\n",
    "                pwd = driver.find_element_by_name('reg_passwd__')\n",
    "                pwd.send_keys('Deep@li')\n",
    "                day = Select(driver.find_element_by_name('birthday_day'))\n",
    "                day.select_by_value('10')\n",
    "                month = Select(driver.find_element_by_name('birthday_month'))\n",
    "                month.select_by_value('8')\n",
    "                year = Select(driver.find_element_by_name('birthday_year'))\n",
    "                year.select_by_value('1991')\n",
    "                fradio = driver.find_element(By.XPATH,('//*[@id=\"u_0_9\"]'))\n",
    "                mradio = driver.find_element(By.XPATH,('//*[@id=\"u_0_a\"]'))\n",
    "                fradio.click()\n",
    "                submit = driver.find_element_by_xpath('//*[@id=\"u_0_11\"]')\n",
    "                submit.click()\n",
    "                assert \"No results found.\" not in driver.page_source\n",
    "unittest.main()\n"
   ]
  },
  {
   "cell_type": "code",
   "execution_count": null,
   "metadata": {},
   "outputs": [],
   "source": [
    "import unittest\n",
    "import HTMLTestRunner\n",
    "import os\n",
    "from r_selenium import SearchText\n",
    "from testsuite import HomePageTest\n",
    "from io import StringIO\n",
    "# get the directory path to output report file\n",
    "dir = os.getcwd()\n",
    "\n",
    "# get all tests from SearchText and HomePageTest class\n",
    "search_text = unittest.TestLoader().loadTestsFromTestCase(SearchText)\n",
    "home_page_test = unittest.TestLoader().loadTestsFromTestCase(HomePageTest)\n",
    "\n",
    "# create a test suite combining search_text and home_page_test\n",
    "test_suite = unittest.TestSuite([home_page_test, search_text])\n",
    "\n",
    "# open the report file\n",
    "outfile = open(\"SeleniumPythonTestSummary.html\", \"w\")\n",
    "\n",
    "# configure HTMLTestRunner options\n",
    "runner = HTMLTestRunner.HTMLTestRunner(stream=outfile,title='Test Report', description='Acceptance Tests')\n",
    "\n",
    "# run the suite using HTMLTestRunner\n",
    "runner.run(test_suite)"
   ]
  },
  {
   "cell_type": "code",
   "execution_count": null,
   "metadata": {},
   "outputs": [],
   "source": [
    "from selenium import webdriver\n",
    "import unittest\n",
    "from selenium.webdriver.common.keys import Keys\n",
    "from selenium.webdriver.common.by import By\n",
    "from selenium.webdriver.support.select import Select"
   ]
  },
  {
   "cell_type": "code",
   "execution_count": null,
   "metadata": {},
   "outputs": [],
   "source": [
    "class InputForms(unittest.TestCase):\n",
    "    @classmethod\n",
    "    def setUpClass(inst):\n",
    "        inst.driver = webdriver.Firefox(executable_path='/home/launchpad/Desktop/python/geckodriver')\n",
    "       # inst.driver.implicity_wait(30)\n",
    "        inst.driver.maximize_window()\n",
    "        inst.driver.get('http://www.seleniumeasy.com/test/basic-first-form-demo.html')\n",
    "        inst.driver.title\n",
    "\n",
    "    def test_singleInputField(self):\n",
    "\n",
    "        key = input('enter message:- ')\n",
    "        self.enter_message  = self.driver.find_element_by_id('user-message')\n",
    "        self.enter_message.clear()\n",
    "        self.enter_message.send_keys(key)\n",
    "        self.send_message = self.driver.find_element(By.XPATH,'//*[@id=\"get-input\"]/button')\n",
    "        self.send_message.click()\n",
    "        self.ele = self.driver.find_element_by_id('display')\n",
    "         ele.text == key\n",
    "    @classmethod\n",
    "    def tearDownClass(inst):\n",
    "        inst.driver.close()\n",
    "\n",
    "unittest.main()\n"
   ]
  },
  {
   "cell_type": "code",
   "execution_count": 1,
   "metadata": {},
   "outputs": [],
   "source": [
    "from selenium import webdriver\n",
    "import unittest\n",
    "from selenium.webdriver.common.keys import Keys\n",
    "from selenium.webdriver.common.by import By\n",
    "from selenium.webdriver.support.select import Select"
   ]
  },
  {
   "cell_type": "code",
   "execution_count": 2,
   "metadata": {},
   "outputs": [
    {
     "name": "stderr",
     "output_type": "stream",
     "text": [
      "E\n",
      "======================================================================\n",
      "ERROR: /run/user/1000/jupyter/kernel-b482610f-20b0-45f1-887f-03e312ffb035 (unittest.loader._FailedTest)\n",
      "----------------------------------------------------------------------\n",
      "AttributeError: module '__main__' has no attribute '/run/user/1000/jupyter/kernel-b482610f-20b0-45f1-887f-03e312ffb035'\n",
      "\n",
      "----------------------------------------------------------------------\n",
      "Ran 1 test in 0.001s\n",
      "\n",
      "FAILED (errors=1)\n"
     ]
    },
    {
     "ename": "SystemExit",
     "evalue": "True",
     "output_type": "error",
     "traceback": [
      "An exception has occurred, use %tb to see the full traceback.\n",
      "\u001b[0;31mSystemExit\u001b[0m\u001b[0;31m:\u001b[0m True\n"
     ]
    },
    {
     "name": "stderr",
     "output_type": "stream",
     "text": [
      "/home/launchpad/.local/lib/python3.5/site-packages/IPython/core/interactiveshell.py:2971: UserWarning: To exit: use 'exit', 'quit', or Ctrl-D.\n",
      "  warn(\"To exit: use 'exit', 'quit', or Ctrl-D.\", stacklevel=1)\n"
     ]
    }
   ],
   "source": [
    "class checkBoxForms(unittest.TestCase):\n",
    "    @classmethod\n",
    "    def setUpClass(inst):\n",
    "        inst.driver = webdriver.Firefox(executable_path='/home/launchpad/Desktop/python/geckodriver')\n",
    "        inst.driver.get(\"http://www.seleniumeasy.com/test/basic-checkbox-demo.html\")\n",
    "        \n",
    "    def test_checkBoxForm(self):\n",
    "        self.chkbox = self.driver.find_element(By.ID,'isAgeSelected')\n",
    "        chkbox.click()\n",
    "        self.ele = self.driver.find_element(By.ID,'txtAge')\n",
    "        \n",
    "unittest.main()"
   ]
  },
  {
   "cell_type": "code",
   "execution_count": null,
   "metadata": {},
   "outputs": [],
   "source": []
  }
 ],
 "metadata": {
  "kernelspec": {
   "display_name": "Python 3",
   "language": "python",
   "name": "python3"
  },
  "language_info": {
   "codemirror_mode": {
    "name": "ipython",
    "version": 3
   },
   "file_extension": ".py",
   "mimetype": "text/x-python",
   "name": "python",
   "nbconvert_exporter": "python",
   "pygments_lexer": "ipython3",
   "version": "3.5.2"
  }
 },
 "nbformat": 4,
 "nbformat_minor": 2
}
