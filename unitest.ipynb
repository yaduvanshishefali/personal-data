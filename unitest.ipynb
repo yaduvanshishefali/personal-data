{
 "cells": [
  {
   "cell_type": "code",
   "execution_count": 8,
   "metadata": {},
   "outputs": [
    {
     "name": "stderr",
     "output_type": "stream",
     "text": [
      "E\n",
      "======================================================================\n",
      "ERROR: /run/user/1000/jupyter/kernel-6692bdd7-1b34-4956-8db8-f51b004ffd8c (unittest.loader._FailedTest)\n",
      "----------------------------------------------------------------------\n",
      "AttributeError: module '__main__' has no attribute '/run/user/1000/jupyter/kernel-6692bdd7-1b34-4956-8db8-f51b004ffd8c'\n",
      "\n",
      "----------------------------------------------------------------------\n",
      "Ran 1 test in 0.001s\n",
      "\n",
      "FAILED (errors=1)\n"
     ]
    },
    {
     "ename": "SystemExit",
     "evalue": "True",
     "output_type": "error",
     "traceback": [
      "An exception has occurred, use %tb to see the full traceback.\n",
      "\u001b[0;31mSystemExit\u001b[0m\u001b[0;31m:\u001b[0m True\n"
     ]
    },
    {
     "name": "stderr",
     "output_type": "stream",
     "text": [
      "/home/launchpad/.local/lib/python3.5/site-packages/IPython/core/interactiveshell.py:2971: UserWarning: To exit: use 'exit', 'quit', or Ctrl-D.\n",
      "  warn(\"To exit: use 'exit', 'quit', or Ctrl-D.\", stacklevel=1)\n"
     ]
    }
   ],
   "source": [
    "\n",
    "import mymath\n",
    "import unittest\n",
    "\n",
    "class TestAdd(unittest.TestCase):\n",
    "    \n",
    "    def test_add_integers(self):\n",
    "        result= mymath.add(1,3)\n",
    "        self.assertEqual(result,4)\n",
    "        \n",
    "unittest.main()\n",
    "\n"
   ]
  },
  {
   "cell_type": "code",
   "execution_count": 2,
   "metadata": {},
   "outputs": [],
   "source": [
    "import unittest\n",
    "from selenium import webdriver\n",
    "\n",
    "class SearchText(unittest.TestCase):\n",
    "    def setUp(self):\n",
    "        # create a new Firefox session\n",
    "        self.driver = webdriver.Firefox()\n",
    "        self.driver.implicitly_wait(30)\n",
    "        self.driver.maximize_window()\n",
    "        # navigate to the application home page\n",
    "        self.driver.get(\"http://www.google.com/\")\n",
    "\n",
    "    def test_search_by_text(self):\n",
    "        # get the search textbox\n",
    "        self.search_field = self.driver.find_element_by_name(\"q\")\n",
    "\n",
    "        # enter search keyword and submit\n",
    "        self.search_field.send_keys(\"Selenium WebDriver Interview questions\")\n",
    "        self.search_field.submit()\n",
    "\n",
    "        #get the list of elements which are displayed after the search\n",
    "        #currently on result page usingfind_elements_by_class_namemethod\n",
    "\n",
    "        lists = self.driver.find_elements_by_class_name(\"r\")\n",
    "        no=len(lists)\n",
    "        self.assertEqual(11, len(lists))"
   ]
  },
  {
   "cell_type": "code",
   "execution_count": 4,
   "metadata": {},
   "outputs": [],
   "source": [
    "j =  webdriver.Firefox(executable_path='/home/launchpad/Desktop/python/geckodriver')"
   ]
  },
  {
   "cell_type": "code",
   "execution_count": 6,
   "metadata": {},
   "outputs": [],
   "source": [
    "j.get('https://www.google.com/search?ei=O_8-W7fhIIz_vATg5oSYCw&q=find+element+by+class+name+python+using+beautifulsoup&oq=find+element+by+class+name+python+using+bea&gs_l=psy-ab.3.0.33i22i29i30k1.13934.17677.0.19073.12.11.0.0.0.0.501.1407.2-4j5-1.5.0....0...1c.1.64.psy-ab..7.4.1199...0j0i22i30k1j0i22i10i30k1.0.ILrZSGso77Y')"
   ]
  },
  {
   "cell_type": "code",
   "execution_count": 10,
   "metadata": {},
   "outputs": [
    {
     "data": {
      "text/plain": [
       "'python - How to find elements by class - Stack Overflow'"
      ]
     },
     "execution_count": 10,
     "metadata": {},
     "output_type": "execute_result"
    }
   ],
   "source": [
    "j.find_element_by_class_name('r').text"
   ]
  },
  {
   "cell_type": "code",
   "execution_count": 11,
   "metadata": {},
   "outputs": [
    {
     "name": "stderr",
     "output_type": "stream",
     "text": [
      "E\n",
      "======================================================================\n",
      "ERROR: /run/user/1000/jupyter/kernel-f258ed79-64d3-4096-9702-6c687cf64d6b (unittest.loader._FailedTest)\n",
      "----------------------------------------------------------------------\n",
      "AttributeError: module '__main__' has no attribute '/run/user/1000/jupyter/kernel-f258ed79-64d3-4096-9702-6c687cf64d6b'\n",
      "\n",
      "----------------------------------------------------------------------\n",
      "Ran 1 test in 0.003s\n",
      "\n",
      "FAILED (errors=1)\n"
     ]
    },
    {
     "ename": "SystemExit",
     "evalue": "True",
     "output_type": "error",
     "traceback": [
      "An exception has occurred, use %tb to see the full traceback.\n",
      "\u001b[0;31mSystemExit\u001b[0m\u001b[0;31m:\u001b[0m True\n"
     ]
    },
    {
     "name": "stderr",
     "output_type": "stream",
     "text": [
      "/home/launchpad/.local/lib/python3.5/site-packages/IPython/core/interactiveshell.py:2971: UserWarning: To exit: use 'exit', 'quit', or Ctrl-D.\n",
      "  warn(\"To exit: use 'exit', 'quit', or Ctrl-D.\", stacklevel=1)\n"
     ]
    }
   ],
   "source": [
    "from selenium import webdriver\n",
    "\n",
    "class SearchText(unittest.TestCase):\n",
    "    @classmethod\n",
    "    def setUpClass(inst):\n",
    "        # create a new Firefox session\n",
    "        inst.driver = webdriver.Firefox()\n",
    "        inst.driver.implicitly_wait(30)\n",
    "        inst.driver.maximize_window()\n",
    "        # navigate to the application home page\n",
    "        inst.driver.get(\"http://www.google.com/\")\n",
    "        inst.driver.title\n",
    "\n",
    "    def test_search_by_text(self):\n",
    "        # get the search textbox\n",
    "        self.search_field = self.driver.find_element_by_name(\"q\")\n",
    "        self.search_field.clear()\n",
    "        # enter search keyword and submit\n",
    "        self.search_field.send_keys(\"Selenium Webdriver interview questions\")\n",
    "        self.search_field.submit()\n",
    "        #get the list of elements which are displayed after the search\n",
    "        #currently on result page using find_elements_by_class_name method\n",
    "        lists = self.driver.find_elements_by_class_name(\"r\")\n",
    "        self.assertEqual(11, len(lists))\n",
    "\n",
    "    def test_search_by_name(self):\n",
    "        # get the search textbox\n",
    "        self.search_field = self.driver.find_element_by_name(\"q\")\n",
    "        # enter search keyword and submit\n",
    "        self.search_field.send_keys(\"Python class\")\n",
    "        self.search_field.submit()\n",
    "        #get the list of elements which are displayed after the search\n",
    "        #currently on result page using find_elements_by_class_name method\n",
    "        list_new = self.driver.find_elements_by_class_name(\"r\")\n",
    "        self.assertEqual(11, len(list_new))\n",
    "\n",
    "    @classmethod\n",
    "    def tearDownClass(inst):\n",
    "        # close the browser window\n",
    "        inst.driver.quit()\n",
    "\n",
    "if __name__ == '__main__':\n",
    "    unittest.main()"
   ]
  },
  {
   "cell_type": "code",
   "execution_count": null,
   "metadata": {},
   "outputs": [],
   "source": []
  }
 ],
 "metadata": {
  "kernelspec": {
   "display_name": "Python 3",
   "language": "python",
   "name": "python3"
  },
  "language_info": {
   "codemirror_mode": {
    "name": "ipython",
    "version": 3
   },
   "file_extension": ".py",
   "mimetype": "text/x-python",
   "name": "python",
   "nbconvert_exporter": "python",
   "pygments_lexer": "ipython3",
   "version": "3.5.2"
  }
 },
 "nbformat": 4,
 "nbformat_minor": 2
}
