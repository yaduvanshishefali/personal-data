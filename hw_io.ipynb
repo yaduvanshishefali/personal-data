{
 "cells": [
  {
   "cell_type": "code",
   "execution_count": 21,
   "metadata": {},
   "outputs": [
    {
     "name": "stdout",
     "output_type": "stream",
     "text": [
      "enter student name :-534\n",
      "enter marks :-534\n",
      "enter student name :-5\n",
      "enter marks :-345\n",
      "enter student name :-34\n",
      "enter marks :-5\n",
      "enter student name :-45\n",
      "enter marks :-34\n",
      "enter student name :-5\n",
      "enter marks :-34\n"
     ]
    }
   ],
   "source": [
    "#Create a program to store students info like name , marks, pecentage, result\n",
    "for i in range(1,6):\n",
    "    \n",
    "    std_name= input('enter student name :-')\n",
    "    std_marks= int(input('enter marks :-'))\n",
    "    percent =(std_marks/500)*100\n",
    "    \n",
    "    student = open('students'+str(i)+'.txt','w')\n",
    "    student.write(std_name + '\\t')\n",
    "    student.write(str(std_marks) + '\\t')\n",
    "    student.write(str(percent) + '\\n')\n",
    "    student.close()"
   ]
  },
  {
   "cell_type": "markdown",
   "metadata": {},
   "source": []
  },
  {
   "cell_type": "code",
   "execution_count": 18,
   "metadata": {},
   "outputs": [
    {
     "name": "stdout",
     "output_type": "stream",
     "text": [
      "enter student name :-466\n",
      "enter marks :-4564\n",
      "enter student name :-546\n",
      "enter marks :-46\n"
     ]
    },
    {
     "data": {
      "text/plain": [
       "[22, 20]"
      ]
     },
     "execution_count": 18,
     "metadata": {},
     "output_type": "execute_result"
    }
   ],
   "source": [
    "open('std.txt','w')\n",
    "\n",
    "[open('std.txt','a').write('Name: {} \\nmarks: {} \\n'.format(input('enter student name :-'),int(input('enter marks :-'))) for i in range(2)]"
   ]
  },
  {
   "cell_type": "code",
   "execution_count": 22,
   "metadata": {},
   "outputs": [],
   "source": [
    "import os"
   ]
  },
  {
   "cell_type": "code",
   "execution_count": 23,
   "metadata": {},
   "outputs": [
    {
     "data": {
      "text/plain": [
       "0"
      ]
     },
     "execution_count": 23,
     "metadata": {},
     "output_type": "execute_result"
    }
   ],
   "source": [
    "os.system('firefox')"
   ]
  },
  {
   "cell_type": "code",
   "execution_count": 27,
   "metadata": {},
   "outputs": [
    {
     "data": {
      "text/plain": [
       "''"
      ]
     },
     "execution_count": 27,
     "metadata": {},
     "output_type": "execute_result"
    }
   ],
   "source": [
    "os.popen('compgen -c').read()"
   ]
  },
  {
   "cell_type": "code",
   "execution_count": 1,
   "metadata": {},
   "outputs": [
    {
     "data": {
      "text/plain": [
       "'tujhe se juda maan teri yaadon ki dhankan jagayee mujhe Aisi khamoshiyo m ai chuupe dil ke nagmai sunaun kaise O more saiyaan'"
      ]
     },
     "execution_count": 1,
     "metadata": {},
     "output_type": "execute_result"
    }
   ],
   "source": [
    "'tujhe se juda maan teri yaadon ki dhankan jagayee mujhe Aisi khamoshiyo m ai chuupe dil ke nagmai sunaun kaise O more saiyaan'"
   ]
  },
  {
   "cell_type": "code",
   "execution_count": null,
   "metadata": {},
   "outputs": [],
   "source": []
  }
 ],
 "metadata": {
  "kernelspec": {
   "display_name": "Python 3",
   "language": "python",
   "name": "python3"
  },
  "language_info": {
   "codemirror_mode": {
    "name": "ipython",
    "version": 3
   },
   "file_extension": ".py",
   "mimetype": "text/x-python",
   "name": "python",
   "nbconvert_exporter": "python",
   "pygments_lexer": "ipython3",
   "version": "3.5.2"
  }
 },
 "nbformat": 4,
 "nbformat_minor": 2
}
