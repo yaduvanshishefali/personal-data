{
 "cells": [
  {
   "cell_type": "code",
   "execution_count": null,
   "metadata": {},
   "outputs": [],
   "source": [
    "from selenium import webdriver\n",
    "from selenium.common.exceptions import TimeoutException\n",
    "from selenium.webdriver.support.ui import WebDriverWait # available since 2.4.0\n",
    "from selenium.webdriver.support import expected_conditions as EC # available since 2.26.0\n"
   ]
  },
  {
   "cell_type": "code",
   "execution_count": null,
   "metadata": {
    "scrolled": true
   },
   "outputs": [],
   "source": [
    "# # Create a new instance of the Firefox driver\n",
    "# driver = webdriver.Chrome('/home/launchpad/Desktop/python/chromedriver')\n"
   ]
  },
  {
   "cell_type": "code",
   "execution_count": null,
   "metadata": {},
   "outputs": [],
   "source": [
    "from selenium import webdriver\n",
    "from selenium.common.exceptions import TimeoutException\n",
    "from selenium.webdriver.support.ui import WebDriverWait # available since 2.4.0\n",
    "from selenium.webdriver.support import expected_conditions as EC # available since 2.26.0\n",
    "\n",
    "# Create a new instance of the Firefox driver\n",
    "driver = webdriver.Firefox(executable_path='/home/launchpad/Desktop/python/geckodriver')\n",
    "\n",
    "# go to the google home page\n",
    "driver.get(\"http://www.google.com\")\n",
    "\n",
    "# the page is ajaxy so the title is originally this:\n",
    "print(driver.title)\n",
    "\n",
    "# find the element that's name attribute is q (the google search box)\n",
    "inputElement = driver.find_element_by_name(\"q\")\n",
    "\n",
    "# type in the search\n",
    "inputElement.send_keys(input('q= '))\n",
    "\n",
    "# submit the form (although google automatically searches now without submitting)\n",
    "inputElement.submit()\n",
    "\n",
    "try:\n",
    "    # we have to wait for the page to refresh, the last thing that seems to be updated is the title\n",
    "    WebDriverWait(driver, 10).until(EC.title_contains(\"cheese!\"))\n",
    "\n",
    "    # You should see \"cheese! - Google Search\"\n",
    "    print (driver.title)\n",
    "\n",
    "finally:\n",
    "    pass\n",
    "#     driver.quit()"
   ]
  },
  {
   "cell_type": "code",
   "execution_count": null,
   "metadata": {},
   "outputs": [],
   "source": [
    "driver.fin"
   ]
  },
  {
   "cell_type": "code",
   "execution_count": null,
   "metadata": {},
   "outputs": [],
   "source": [
    "assert 4<2,'4 2 se bda nhi hai'"
   ]
  },
  {
   "cell_type": "code",
   "execution_count": null,
   "metadata": {},
   "outputs": [],
   "source": [
    "from selenium import webdriver\n",
    "from selenium.webdriver.common.keys import Keys\n",
    "\n",
    "driver = webdriver.Firefox(executable_path='/home/launchpad/Desktop/python/geckodriver')\n",
    "driver.get(\"http://www.python.org\")\n",
    "assert \"Python\" in driver.title\n",
    "elem = driver.find_element_by_name(\"q\")\n",
    "elem.clear()\n",
    "elem.send_keys(\"pycon\")\n",
    "elem.send_keys(Keys.RETURN)\n",
    "assert \"No results found.\" not in driver.page_source\n",
    "#driver.close()"
   ]
  },
  {
   "cell_type": "code",
   "execution_count": 10,
   "metadata": {},
   "outputs": [
    {
     "name": "stderr",
     "output_type": "stream",
     "text": [
      "E\n",
      "======================================================================\n",
      "ERROR: /run/user/1000/jupyter/kernel-b636acb3-1a60-4732-8d93-f3ebf3bad009 (unittest.loader._FailedTest)\n",
      "----------------------------------------------------------------------\n",
      "AttributeError: module '__main__' has no attribute '/run/user/1000/jupyter/kernel-b636acb3-1a60-4732-8d93-f3ebf3bad009'\n",
      "\n",
      "----------------------------------------------------------------------\n",
      "Ran 1 test in 0.002s\n",
      "\n",
      "FAILED (errors=1)\n"
     ]
    },
    {
     "ename": "SystemExit",
     "evalue": "True",
     "output_type": "error",
     "traceback": [
      "An exception has occurred, use %tb to see the full traceback.\n",
      "\u001b[0;31mSystemExit\u001b[0m\u001b[0;31m:\u001b[0m True\n"
     ]
    },
    {
     "name": "stderr",
     "output_type": "stream",
     "text": [
      "/home/launchpad/.local/lib/python3.5/site-packages/IPython/core/interactiveshell.py:2971: UserWarning: To exit: use 'exit', 'quit', or Ctrl-D.\n",
      "  warn(\"To exit: use 'exit', 'quit', or Ctrl-D.\", stacklevel=1)\n"
     ]
    }
   ],
   "source": [
    "import unittest\n",
    "from selenium import webdriver\n",
    "\n",
    "class SearchText(unittest.TestCase):\n",
    "    @classmethod\n",
    "    def setUpClass(inst):\n",
    "        inst.driver = webdriver.Firefox(executable_path='/home/launchpad/Desktop/python/geckodriver')\n",
    "        inst.driver.implicitly_wait(30)\n",
    "        inst.driver.maximize_window()\n",
    "        inst.driver.get('http://www.google.com/')\n",
    "        inst.driver.title\n",
    "    \n",
    "    def test_search_data_by_text(self):\n",
    "        \n",
    "        self.search_field = self.driver.find_element_by_name('q')\n",
    "        self.search_field.clear()\n",
    "        self.search_field.send_keys('selenium webdriver')\n",
    "        self.search_field.submit()\n",
    "        lists = self.driver.find_elements_by_class('r')\n",
    "        self.assertEqual(11,len(lists))\n",
    "    \n",
    "    def test_search_data_by_name(self):\n",
    "        \n",
    "        self.search_field = self.driver.find_element_by_name('q')\n",
    "        self.search_field.clear()\n",
    "        self.search_field.send_keys('python class')\n",
    "        self.search_field.submit()\n",
    "        lists1 = self.driver.find_elements_by_class('r')\n",
    "        self.assertEqual(11,len(lists1))\n",
    "\n",
    "    @classmethod\n",
    "    def tearDownClass(inst):\n",
    "        # close the browser window\n",
    "        inst.driver.quit()\n",
    "\n",
    "unittest.main()"
   ]
  },
  {
   "cell_type": "code",
   "execution_count": 5,
   "metadata": {},
   "outputs": [],
   "source": [
    "import unittest\n",
    "from selenium import webdriver\n",
    " \n",
    "class AweberTest(unittest.TestCase):\n",
    " \n",
    "    @classmethod\n",
    "    def setUpClass(cls):\n",
    "        cls.driver = webdriver.Firefox(executable_path='/home/launchpad/Desktop/python/geckodriver')\n",
    " \n",
    "    def test_title(self):\n",
    "        self.driver.get('https://www.aweber.com')\n",
    "        self.assertEqual(\n",
    "            self.driver.title,\n",
    "            'AWeber Email Marketing Services & Software Solutions for Small Business')\n",
    " \n",
    "    @classmethod\n",
    "    def tearDownClass(cls):\n",
    "        cls.driver.quit()"
   ]
  },
  {
   "cell_type": "code",
   "execution_count": 6,
   "metadata": {},
   "outputs": [],
   "source": [
    "from selenium import webdriver"
   ]
  },
  {
   "cell_type": "code",
   "execution_count": 7,
   "metadata": {},
   "outputs": [],
   "source": [
    "driver = webdriver.Firefox(executable_path='/home/launchpad/Desktop/python/geckodriver')"
   ]
  },
  {
   "cell_type": "code",
   "execution_count": null,
   "metadata": {},
   "outputs": [],
   "source": [
    "driver.fin"
   ]
  }
 ],
 "metadata": {
  "kernelspec": {
   "display_name": "Python 3",
   "language": "python",
   "name": "python3"
  },
  "language_info": {
   "codemirror_mode": {
    "name": "ipython",
    "version": 3
   },
   "file_extension": ".py",
   "mimetype": "text/x-python",
   "name": "python",
   "nbconvert_exporter": "python",
   "pygments_lexer": "ipython3",
   "version": "3.5.2"
  }
 },
 "nbformat": 4,
 "nbformat_minor": 2
}
